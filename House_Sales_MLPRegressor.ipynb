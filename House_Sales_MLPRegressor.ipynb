{
 "cells": [
  {
   "cell_type": "markdown",
   "id": "39220f4f",
   "metadata": {},
   "source": [
    "https://www.kaggle.com/quantbruce/real-estate-price-prediction"
   ]
  },
  {
   "cell_type": "code",
   "execution_count": 12,
   "id": "6a515db4",
   "metadata": {},
   "outputs": [],
   "source": [
    "import numpy as np\n",
    "import pandas as pd\n",
    "import matplotlib.pyplot as plt\n",
    "from sklearn.datasets import fetch_openml\n",
    "from sklearn.exceptions import ConvergenceWarning\n",
    "from sklearn.neural_network import MLPRegressor\n",
    "from sklearn.datasets import make_regression\n",
    "from sklearn.model_selection import train_test_split"
   ]
  },
  {
   "cell_type": "code",
   "execution_count": 2,
   "id": "67ee950d",
   "metadata": {},
   "outputs": [],
   "source": [
    "data = pd.read_csv(\"Real estate.csv\")"
   ]
  },
  {
   "cell_type": "code",
   "execution_count": 26,
   "id": "5f82ad3a",
   "metadata": {},
   "outputs": [],
   "source": [
    "data=data[:200]"
   ]
  },
  {
   "cell_type": "code",
   "execution_count": 38,
   "id": "2af2161e",
   "metadata": {},
   "outputs": [],
   "source": [
    "X=np.array(data.loc[:,data.columns[1:5]])"
   ]
  },
  {
   "cell_type": "code",
   "execution_count": 39,
   "id": "89afe4c5",
   "metadata": {},
   "outputs": [],
   "source": [
    "y=np.array(data.loc[:,data.columns[7]])"
   ]
  },
  {
   "cell_type": "markdown",
   "id": "a8964420",
   "metadata": {},
   "source": [
    "TODO:\n",
    "perform MLP regression on house price dataset and see accuracy score"
   ]
  },
  {
   "cell_type": "code",
   "execution_count": 59,
   "id": "a39198c4",
   "metadata": {},
   "outputs": [
    {
     "name": "stderr",
     "output_type": "stream",
     "text": [
      "/usr/local/lib/python3.6/dist-packages/sklearn/neural_network/_multilayer_perceptron.py:617: ConvergenceWarning: Stochastic Optimizer: Maximum iterations (200) reached and the optimization hasn't converged yet.\n",
      "  % self.max_iter, ConvergenceWarning)\n"
     ]
    },
    {
     "data": {
      "text/plain": [
       "array([46.5348444 , 47.3549919 , 47.84744525, 46.09394833, 28.18129807,\n",
       "       47.50944927, 25.91726885, 49.63240296, 46.274312  , 46.83539027,\n",
       "       25.14405214, 48.31441804, 46.01156337, 28.07000111, 25.94150448,\n",
       "       45.72599228, 41.69174804, 47.56049973, 45.59940049, 45.93390764,\n",
       "       46.22021146, 21.62103872, 45.47824514, 25.89218661, 50.06714913])"
      ]
     },
     "execution_count": 59,
     "metadata": {},
     "output_type": "execute_result"
    }
   ],
   "source": [
    "#from sklearn.linear_model import LinearRegression\n",
    "X_train, X_test, y_train, y_test = train_test_split(X, y,random_state=1)\n",
    "regr = MLPRegressor(hidden_layer_sizes=800, activation='logistic',alpha=.01).fit(X_train,y_train)#(random_state=1, max_iter=500, alpha=.1).fit(X_train, y_train)\n",
    "regr.predict(X_test)"
   ]
  },
  {
   "cell_type": "code",
   "execution_count": 60,
   "id": "bee1523c",
   "metadata": {},
   "outputs": [
    {
     "data": {
      "text/plain": [
       "0.5277516978239786"
      ]
     },
     "execution_count": 60,
     "metadata": {},
     "output_type": "execute_result"
    }
   ],
   "source": [
    "regr.score(X_test, y_test)"
   ]
  },
  {
   "cell_type": "code",
   "execution_count": 62,
   "id": "ebd86909",
   "metadata": {},
   "outputs": [
    {
     "data": {
      "text/plain": [
       "[<matplotlib.lines.Line2D at 0x7f8813b61400>]"
      ]
     },
     "execution_count": 62,
     "metadata": {},
     "output_type": "execute_result"
    },
    {
     "data": {
      "image/png": "[encoded data removed]",
      "text/plain": [
       "<Figure size 432x288 with 1 Axes>"
      ]
     },
     "metadata": {},
     "output_type": "display_data"
    }
   ],
   "source": [
    "plt.plot(regr.loss_curve_)"
   ]
  },
  {
   "cell_type": "code",
   "execution_count": 74,
   "id": "866fe8ef",
   "metadata": {},
   "outputs": [
    {
     "data": {
      "text/plain": [
       "array([ 0.00599681, -0.00580764, -0.00017267,  0.00463646])"
      ]
     },
     "execution_count": 74,
     "metadata": {},
     "output_type": "execute_result"
    }
   ],
   "source": [
    "regr.coefs_[0].mean(1)"
   ]
  },
  {
   "cell_type": "code",
   "execution_count": null,
   "id": "f946fa1c",
   "metadata": {},
   "outputs": [],
   "source": []
  }
 ],
 "metadata": {
  "kernelspec": {
   "display_name": "Python 3",
   "language": "python",
   "name": "python3"
  },
  "language_info": {
   "codemirror_mode": {
    "name": "ipython",
    "version": 3
   },
   "file_extension": ".py",
   "mimetype": "text/x-python",
   "name": "python",
   "nbconvert_exporter": "python",
   "pygments_lexer": "ipython3",
   "version": "3.6.9"
  }
 },
 "nbformat": 4,
 "nbformat_minor": 5
}
