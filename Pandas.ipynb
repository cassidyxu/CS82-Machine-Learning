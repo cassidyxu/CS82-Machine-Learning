{
 "cells": [
  {
   "cell_type": "code",
   "execution_count": 1,
   "id": "7ec68d01",
   "metadata": {},
   "outputs": [],
   "source": [
    "import pandas as pd\n"
   ]
  },
  {
   "cell_type": "code",
   "execution_count": 2,
   "id": "ec6d8a8e",
   "metadata": {},
   "outputs": [
    {
     "data": {
      "text/plain": [
       "'1.1.5'"
      ]
     },
     "execution_count": 2,
     "metadata": {},
     "output_type": "execute_result"
    }
   ],
   "source": [
    "pd.__version__\n"
   ]
  },
  {
   "cell_type": "code",
   "execution_count": 22,
   "id": "640f84bc",
   "metadata": {},
   "outputs": [
    {
     "data": {
      "text/plain": [
       "pandas.core.frame.DataFrame"
      ]
     },
     "execution_count": 22,
     "metadata": {},
     "output_type": "execute_result"
    }
   ],
   "source": [
    "colleges = pd.read_csv(\"ForbesAmericasTopColleges2019.csv\")\n",
    "type(nba)"
   ]
  },
  {
   "cell_type": "code",
   "execution_count": 23,
   "id": "2c6a031c",
   "metadata": {},
   "outputs": [
    {
     "data": {
      "text/plain": [
       "650"
      ]
     },
     "execution_count": 23,
     "metadata": {},
     "output_type": "execute_result"
    }
   ],
   "source": [
    "len(colleges)\n"
   ]
  },
  {
   "cell_type": "code",
   "execution_count": 24,
   "id": "8e79ce4a",
   "metadata": {},
   "outputs": [
    {
     "data": {
      "text/html": [
       "<div>\n",
       "<style scoped>\n",
       "    .dataframe tbody tr th:only-of-type {\n",
       "        vertical-align: middle;\n",
       "    }\n",
       "\n",
       "    .dataframe tbody tr th {\n",
       "        vertical-align: top;\n",
       "    }\n",
       "\n",
       "    .dataframe thead th {\n",
       "        text-align: right;\n",
       "    }\n",
       "</style>\n",
       "<table border=\"1\" class=\"dataframe\">\n",
       "  <thead>\n",
       "    <tr style=\"text-align: right;\">\n",
       "      <th></th>\n",
       "      <th>Rank</th>\n",
       "      <th>Undergraduate Population</th>\n",
       "      <th>Student Population</th>\n",
       "      <th>Net Price</th>\n",
       "      <th>Average Grant Aid</th>\n",
       "      <th>Total Annual Cost</th>\n",
       "      <th>Alumni Salary</th>\n",
       "      <th>Acceptance Rate</th>\n",
       "      <th>SAT Lower</th>\n",
       "      <th>SAT Upper</th>\n",
       "      <th>ACT Lower</th>\n",
       "      <th>ACT Upper</th>\n",
       "    </tr>\n",
       "  </thead>\n",
       "  <tbody>\n",
       "    <tr>\n",
       "      <th>count</th>\n",
       "      <td>650.00000</td>\n",
       "      <td>650.000000</td>\n",
       "      <td>650.000000</td>\n",
       "      <td>648.000000</td>\n",
       "      <td>646.000000</td>\n",
       "      <td>650.000000</td>\n",
       "      <td>635.000000</td>\n",
       "      <td>648.000000</td>\n",
       "      <td>551.000000</td>\n",
       "      <td>551.000000</td>\n",
       "      <td>553.000000</td>\n",
       "      <td>553.000000</td>\n",
       "    </tr>\n",
       "    <tr>\n",
       "      <th>mean</th>\n",
       "      <td>325.50000</td>\n",
       "      <td>10002.692308</td>\n",
       "      <td>12022.290769</td>\n",
       "      <td>22336.947531</td>\n",
       "      <td>20031.208978</td>\n",
       "      <td>50330.175385</td>\n",
       "      <td>98851.968504</td>\n",
       "      <td>61.597222</td>\n",
       "      <td>1110.145191</td>\n",
       "      <td>1308.078040</td>\n",
       "      <td>23.278481</td>\n",
       "      <td>28.441230</td>\n",
       "    </tr>\n",
       "    <tr>\n",
       "      <th>std</th>\n",
       "      <td>187.78312</td>\n",
       "      <td>11162.172430</td>\n",
       "      <td>13175.091581</td>\n",
       "      <td>8269.912032</td>\n",
       "      <td>11175.869976</td>\n",
       "      <td>13223.055038</td>\n",
       "      <td>14335.249458</td>\n",
       "      <td>22.024781</td>\n",
       "      <td>127.744079</td>\n",
       "      <td>113.553237</td>\n",
       "      <td>3.729318</td>\n",
       "      <td>3.058115</td>\n",
       "    </tr>\n",
       "    <tr>\n",
       "      <th>min</th>\n",
       "      <td>1.00000</td>\n",
       "      <td>185.000000</td>\n",
       "      <td>386.000000</td>\n",
       "      <td>0.000000</td>\n",
       "      <td>2975.000000</td>\n",
       "      <td>0.000000</td>\n",
       "      <td>70700.000000</td>\n",
       "      <td>5.000000</td>\n",
       "      <td>820.000000</td>\n",
       "      <td>1060.000000</td>\n",
       "      <td>15.000000</td>\n",
       "      <td>20.000000</td>\n",
       "    </tr>\n",
       "    <tr>\n",
       "      <th>25%</th>\n",
       "      <td>163.25000</td>\n",
       "      <td>2020.250000</td>\n",
       "      <td>2240.750000</td>\n",
       "      <td>16410.000000</td>\n",
       "      <td>9288.250000</td>\n",
       "      <td>39917.000000</td>\n",
       "      <td>88600.000000</td>\n",
       "      <td>48.000000</td>\n",
       "      <td>1020.000000</td>\n",
       "      <td>1230.000000</td>\n",
       "      <td>21.000000</td>\n",
       "      <td>26.000000</td>\n",
       "    </tr>\n",
       "    <tr>\n",
       "      <th>50%</th>\n",
       "      <td>325.50000</td>\n",
       "      <td>4503.000000</td>\n",
       "      <td>6269.000000</td>\n",
       "      <td>21989.000000</td>\n",
       "      <td>19605.000000</td>\n",
       "      <td>50265.000000</td>\n",
       "      <td>96400.000000</td>\n",
       "      <td>67.000000</td>\n",
       "      <td>1080.000000</td>\n",
       "      <td>1290.000000</td>\n",
       "      <td>22.000000</td>\n",
       "      <td>28.000000</td>\n",
       "    </tr>\n",
       "    <tr>\n",
       "      <th>75%</th>\n",
       "      <td>487.75000</td>\n",
       "      <td>15657.000000</td>\n",
       "      <td>17788.000000</td>\n",
       "      <td>27580.500000</td>\n",
       "      <td>27474.500000</td>\n",
       "      <td>60771.750000</td>\n",
       "      <td>105600.000000</td>\n",
       "      <td>78.000000</td>\n",
       "      <td>1180.000000</td>\n",
       "      <td>1380.000000</td>\n",
       "      <td>25.000000</td>\n",
       "      <td>31.000000</td>\n",
       "    </tr>\n",
       "    <tr>\n",
       "      <th>max</th>\n",
       "      <td>650.00000</td>\n",
       "      <td>65100.000000</td>\n",
       "      <td>75044.000000</td>\n",
       "      <td>47270.000000</td>\n",
       "      <td>50897.000000</td>\n",
       "      <td>75735.000000</td>\n",
       "      <td>158200.000000</td>\n",
       "      <td>100.000000</td>\n",
       "      <td>1530.000000</td>\n",
       "      <td>1590.000000</td>\n",
       "      <td>34.000000</td>\n",
       "      <td>35.000000</td>\n",
       "    </tr>\n",
       "  </tbody>\n",
       "</table>\n",
       "</div>"
      ],
      "text/plain": [
       "            Rank  Undergraduate Population  Student Population     Net Price  \\\n",
       "count  650.00000                650.000000          650.000000    648.000000   \n",
       "mean   325.50000              10002.692308        12022.290769  22336.947531   \n",
       "std    187.78312              11162.172430        13175.091581   8269.912032   \n",
       "min      1.00000                185.000000          386.000000      0.000000   \n",
       "25%    163.25000               2020.250000         2240.750000  16410.000000   \n",
       "50%    325.50000               4503.000000         6269.000000  21989.000000   \n",
       "75%    487.75000              15657.000000        17788.000000  27580.500000   \n",
       "max    650.00000              65100.000000        75044.000000  47270.000000   \n",
       "\n",
       "       Average Grant Aid  Total Annual Cost  Alumni Salary  Acceptance Rate  \\\n",
       "count         646.000000         650.000000     635.000000       648.000000   \n",
       "mean        20031.208978       50330.175385   98851.968504        61.597222   \n",
       "std         11175.869976       13223.055038   14335.249458        22.024781   \n",
       "min          2975.000000           0.000000   70700.000000         5.000000   \n",
       "25%          9288.250000       39917.000000   88600.000000        48.000000   \n",
       "50%         19605.000000       50265.000000   96400.000000        67.000000   \n",
       "75%         27474.500000       60771.750000  105600.000000        78.000000   \n",
       "max         50897.000000       75735.000000  158200.000000       100.000000   \n",
       "\n",
       "         SAT Lower    SAT Upper   ACT Lower   ACT Upper  \n",
       "count   551.000000   551.000000  553.000000  553.000000  \n",
       "mean   1110.145191  1308.078040   23.278481   28.441230  \n",
       "std     127.744079   113.553237    3.729318    3.058115  \n",
       "min     820.000000  1060.000000   15.000000   20.000000  \n",
       "25%    1020.000000  1230.000000   21.000000   26.000000  \n",
       "50%    1080.000000  1290.000000   22.000000   28.000000  \n",
       "75%    1180.000000  1380.000000   25.000000   31.000000  \n",
       "max    1530.000000  1590.000000   34.000000   35.000000  "
      ]
     },
     "execution_count": 24,
     "metadata": {},
     "output_type": "execute_result"
    }
   ],
   "source": [
    "colleges.describe()"
   ]
  },
  {
   "cell_type": "code",
   "execution_count": 25,
   "id": "f7c197d6",
   "metadata": {},
   "outputs": [
    {
     "data": {
      "text/plain": [
       "647.0    1\n",
       "304.0    1\n",
       "376.0    1\n",
       "372.0    1\n",
       "368.0    1\n",
       "        ..\n",
       "189.0    1\n",
       "187.0    1\n",
       "401.0    1\n",
       "185.0    1\n",
       "1.0      1\n",
       "Name: Rank, Length: 650, dtype: int64"
      ]
     },
     "execution_count": 25,
     "metadata": {},
     "output_type": "execute_result"
    }
   ],
   "source": [
    "colleges[\"Rank\"].value_counts()"
   ]
  },
  {
   "cell_type": "code",
   "execution_count": 26,
   "id": "d4ef23e9",
   "metadata": {},
   "outputs": [
    {
     "name": "stdout",
     "output_type": "stream",
     "text": [
      "<class 'pandas.core.frame.DataFrame'>\n",
      "RangeIndex: 650 entries, 0 to 649\n",
      "Data columns (total 17 columns):\n",
      " #   Column                    Non-Null Count  Dtype  \n",
      "---  ------                    --------------  -----  \n",
      " 0   Rank                      650 non-null    float64\n",
      " 1   Name                      650 non-null    object \n",
      " 2   City                      647 non-null    object \n",
      " 3   State                     650 non-null    object \n",
      " 4   Public/Private            650 non-null    object \n",
      " 5   Undergraduate Population  650 non-null    float64\n",
      " 6   Student Population        650 non-null    float64\n",
      " 7   Net Price                 648 non-null    float64\n",
      " 8   Average Grant Aid         646 non-null    float64\n",
      " 9   Total Annual Cost         650 non-null    float64\n",
      " 10  Alumni Salary             635 non-null    float64\n",
      " 11  Acceptance Rate           648 non-null    float64\n",
      " 12  SAT Lower                 551 non-null    float64\n",
      " 13  SAT Upper                 551 non-null    float64\n",
      " 14  ACT Lower                 553 non-null    float64\n",
      " 15  ACT Upper                 553 non-null    float64\n",
      " 16  Website                   645 non-null    object \n",
      "dtypes: float64(12), object(5)\n",
      "memory usage: 86.5+ KB\n"
     ]
    }
   ],
   "source": [
    "colleges.info()\n"
   ]
  },
  {
   "cell_type": "code",
   "execution_count": 4,
   "id": "55a14695",
   "metadata": {},
   "outputs": [],
   "source": [
    "import pandas as pd\n",
    "\n"
   ]
  },
  {
   "cell_type": "code",
   "execution_count": 5,
   "id": "cf21eec9",
   "metadata": {},
   "outputs": [],
   "source": [
    "c1 = pd.read_csv(\"c1.csv\")\n",
    "c2 = pd.read_csv(\"c2.csv\")"
   ]
  },
  {
   "cell_type": "code",
   "execution_count": 6,
   "id": "576567fb",
   "metadata": {},
   "outputs": [
    {
     "data": {
      "text/html": [
       "<div>\n",
       "<style scoped>\n",
       "    .dataframe tbody tr th:only-of-type {\n",
       "        vertical-align: middle;\n",
       "    }\n",
       "\n",
       "    .dataframe tbody tr th {\n",
       "        vertical-align: top;\n",
       "    }\n",
       "\n",
       "    .dataframe thead th {\n",
       "        text-align: right;\n",
       "    }\n",
       "</style>\n",
       "<table border=\"1\" class=\"dataframe\">\n",
       "  <thead>\n",
       "    <tr style=\"text-align: right;\">\n",
       "      <th></th>\n",
       "      <th>Rank</th>\n",
       "      <th>Undergraduate Population</th>\n",
       "      <th>Student Population</th>\n",
       "      <th>Net Price</th>\n",
       "      <th>Average Grant Aid</th>\n",
       "      <th>Total Annual Cost</th>\n",
       "      <th>Alumni Salary</th>\n",
       "      <th>Acceptance Rate</th>\n",
       "      <th>SAT Lower</th>\n",
       "      <th>SAT Upper</th>\n",
       "      <th>ACT Lower</th>\n",
       "      <th>ACT Upper</th>\n",
       "    </tr>\n",
       "  </thead>\n",
       "  <tbody>\n",
       "    <tr>\n",
       "      <th>count</th>\n",
       "      <td>5.000000</td>\n",
       "      <td>5.000000</td>\n",
       "      <td>5.000000</td>\n",
       "      <td>5.000000</td>\n",
       "      <td>5.000000</td>\n",
       "      <td>5.000000</td>\n",
       "      <td>5.000000</td>\n",
       "      <td>5.0</td>\n",
       "      <td>5.000000</td>\n",
       "      <td>5.000000</td>\n",
       "      <td>5.000000</td>\n",
       "      <td>5.0</td>\n",
       "    </tr>\n",
       "    <tr>\n",
       "      <th>mean</th>\n",
       "      <td>3.000000</td>\n",
       "      <td>7813.600000</td>\n",
       "      <td>16273.400000</td>\n",
       "      <td>15262.600000</td>\n",
       "      <td>48447.400000</td>\n",
       "      <td>68715.800000</td>\n",
       "      <td>144980.000000</td>\n",
       "      <td>6.0</td>\n",
       "      <td>1446.000000</td>\n",
       "      <td>1570.000000</td>\n",
       "      <td>32.000000</td>\n",
       "      <td>35.0</td>\n",
       "    </tr>\n",
       "    <tr>\n",
       "      <th>std</th>\n",
       "      <td>1.581139</td>\n",
       "      <td>3638.137752</td>\n",
       "      <td>8944.470068</td>\n",
       "      <td>4521.469761</td>\n",
       "      <td>3083.499603</td>\n",
       "      <td>1987.431307</td>\n",
       "      <td>6774.363439</td>\n",
       "      <td>1.0</td>\n",
       "      <td>37.815341</td>\n",
       "      <td>18.708287</td>\n",
       "      <td>0.707107</td>\n",
       "      <td>0.0</td>\n",
       "    </tr>\n",
       "    <tr>\n",
       "      <th>min</th>\n",
       "      <td>1.000000</td>\n",
       "      <td>4680.000000</td>\n",
       "      <td>8273.000000</td>\n",
       "      <td>9327.000000</td>\n",
       "      <td>43248.000000</td>\n",
       "      <td>66150.000000</td>\n",
       "      <td>138300.000000</td>\n",
       "      <td>5.0</td>\n",
       "      <td>1390.000000</td>\n",
       "      <td>1540.000000</td>\n",
       "      <td>31.000000</td>\n",
       "      <td>35.0</td>\n",
       "    </tr>\n",
       "    <tr>\n",
       "      <th>25%</th>\n",
       "      <td>2.000000</td>\n",
       "      <td>5659.000000</td>\n",
       "      <td>11466.000000</td>\n",
       "      <td>13261.000000</td>\n",
       "      <td>48088.000000</td>\n",
       "      <td>67430.000000</td>\n",
       "      <td>139400.000000</td>\n",
       "      <td>5.0</td>\n",
       "      <td>1430.000000</td>\n",
       "      <td>1570.000000</td>\n",
       "      <td>32.000000</td>\n",
       "      <td>35.0</td>\n",
       "    </tr>\n",
       "    <tr>\n",
       "      <th>50%</th>\n",
       "      <td>3.000000</td>\n",
       "      <td>6483.000000</td>\n",
       "      <td>12974.000000</td>\n",
       "      <td>14327.000000</td>\n",
       "      <td>49870.000000</td>\n",
       "      <td>69109.000000</td>\n",
       "      <td>145200.000000</td>\n",
       "      <td>6.0</td>\n",
       "      <td>1460.000000</td>\n",
       "      <td>1570.000000</td>\n",
       "      <td>32.000000</td>\n",
       "      <td>35.0</td>\n",
       "    </tr>\n",
       "    <tr>\n",
       "      <th>75%</th>\n",
       "      <td>4.000000</td>\n",
       "      <td>8402.000000</td>\n",
       "      <td>17534.000000</td>\n",
       "      <td>18627.000000</td>\n",
       "      <td>50134.000000</td>\n",
       "      <td>69600.000000</td>\n",
       "      <td>146800.000000</td>\n",
       "      <td>7.0</td>\n",
       "      <td>1460.000000</td>\n",
       "      <td>1580.000000</td>\n",
       "      <td>32.000000</td>\n",
       "      <td>35.0</td>\n",
       "    </tr>\n",
       "    <tr>\n",
       "      <th>max</th>\n",
       "      <td>5.000000</td>\n",
       "      <td>13844.000000</td>\n",
       "      <td>31120.000000</td>\n",
       "      <td>20771.000000</td>\n",
       "      <td>50897.000000</td>\n",
       "      <td>71290.000000</td>\n",
       "      <td>155200.000000</td>\n",
       "      <td>7.0</td>\n",
       "      <td>1490.000000</td>\n",
       "      <td>1590.000000</td>\n",
       "      <td>33.000000</td>\n",
       "      <td>35.0</td>\n",
       "    </tr>\n",
       "  </tbody>\n",
       "</table>\n",
       "</div>"
      ],
      "text/plain": [
       "           Rank  Undergraduate Population  Student Population     Net Price  \\\n",
       "count  5.000000                  5.000000            5.000000      5.000000   \n",
       "mean   3.000000               7813.600000        16273.400000  15262.600000   \n",
       "std    1.581139               3638.137752         8944.470068   4521.469761   \n",
       "min    1.000000               4680.000000         8273.000000   9327.000000   \n",
       "25%    2.000000               5659.000000        11466.000000  13261.000000   \n",
       "50%    3.000000               6483.000000        12974.000000  14327.000000   \n",
       "75%    4.000000               8402.000000        17534.000000  18627.000000   \n",
       "max    5.000000              13844.000000        31120.000000  20771.000000   \n",
       "\n",
       "       Average Grant Aid  Total Annual Cost  Alumni Salary  Acceptance Rate  \\\n",
       "count           5.000000           5.000000       5.000000              5.0   \n",
       "mean        48447.400000       68715.800000  144980.000000              6.0   \n",
       "std          3083.499603        1987.431307    6774.363439              1.0   \n",
       "min         43248.000000       66150.000000  138300.000000              5.0   \n",
       "25%         48088.000000       67430.000000  139400.000000              5.0   \n",
       "50%         49870.000000       69109.000000  145200.000000              6.0   \n",
       "75%         50134.000000       69600.000000  146800.000000              7.0   \n",
       "max         50897.000000       71290.000000  155200.000000              7.0   \n",
       "\n",
       "         SAT Lower    SAT Upper  ACT Lower  ACT Upper  \n",
       "count     5.000000     5.000000   5.000000        5.0  \n",
       "mean   1446.000000  1570.000000  32.000000       35.0  \n",
       "std      37.815341    18.708287   0.707107        0.0  \n",
       "min    1390.000000  1540.000000  31.000000       35.0  \n",
       "25%    1430.000000  1570.000000  32.000000       35.0  \n",
       "50%    1460.000000  1570.000000  32.000000       35.0  \n",
       "75%    1460.000000  1580.000000  32.000000       35.0  \n",
       "max    1490.000000  1590.000000  33.000000       35.0  "
      ]
     },
     "execution_count": 6,
     "metadata": {},
     "output_type": "execute_result"
    }
   ],
   "source": [
    "c1.describe()\n"
   ]
  },
  {
   "cell_type": "code",
   "execution_count": 7,
   "id": "2ccac69f",
   "metadata": {},
   "outputs": [
    {
     "data": {
      "text/html": [
       "<div>\n",
       "<style scoped>\n",
       "    .dataframe tbody tr th:only-of-type {\n",
       "        vertical-align: middle;\n",
       "    }\n",
       "\n",
       "    .dataframe tbody tr th {\n",
       "        vertical-align: top;\n",
       "    }\n",
       "\n",
       "    .dataframe thead th {\n",
       "        text-align: right;\n",
       "    }\n",
       "</style>\n",
       "<table border=\"1\" class=\"dataframe\">\n",
       "  <thead>\n",
       "    <tr style=\"text-align: right;\">\n",
       "      <th></th>\n",
       "      <th>Rank</th>\n",
       "      <th>Undergraduate Population</th>\n",
       "      <th>Student Population</th>\n",
       "      <th>Net Price</th>\n",
       "      <th>Average Grant Aid</th>\n",
       "      <th>Total Annual Cost</th>\n",
       "      <th>Alumni Salary</th>\n",
       "      <th>Acceptance Rate</th>\n",
       "      <th>SAT Lower</th>\n",
       "      <th>SAT Upper</th>\n",
       "      <th>ACT Lower</th>\n",
       "      <th>ACT Upper</th>\n",
       "    </tr>\n",
       "  </thead>\n",
       "  <tbody>\n",
       "    <tr>\n",
       "      <th>count</th>\n",
       "      <td>6.000000</td>\n",
       "      <td>6.000000</td>\n",
       "      <td>6.000000</td>\n",
       "      <td>6.000000</td>\n",
       "      <td>6.000000</td>\n",
       "      <td>6.000000</td>\n",
       "      <td>6.000000</td>\n",
       "      <td>6.000000</td>\n",
       "      <td>6.000000</td>\n",
       "      <td>6.000000</td>\n",
       "      <td>6.000000</td>\n",
       "      <td>6.000000</td>\n",
       "    </tr>\n",
       "    <tr>\n",
       "      <th>mean</th>\n",
       "      <td>8.500000</td>\n",
       "      <td>8080.000000</td>\n",
       "      <td>13892.500000</td>\n",
       "      <td>29346.666667</td>\n",
       "      <td>43305.833333</td>\n",
       "      <td>70929.666667</td>\n",
       "      <td>134050.000000</td>\n",
       "      <td>9.666667</td>\n",
       "      <td>1425.833333</td>\n",
       "      <td>1561.666667</td>\n",
       "      <td>31.500000</td>\n",
       "      <td>34.666667</td>\n",
       "    </tr>\n",
       "    <tr>\n",
       "      <th>std</th>\n",
       "      <td>1.870829</td>\n",
       "      <td>5222.180656</td>\n",
       "      <td>9215.999756</td>\n",
       "      <td>4435.287078</td>\n",
       "      <td>4313.442218</td>\n",
       "      <td>1150.522606</td>\n",
       "      <td>8917.118369</td>\n",
       "      <td>1.861899</td>\n",
       "      <td>54.260176</td>\n",
       "      <td>17.224014</td>\n",
       "      <td>1.378405</td>\n",
       "      <td>0.516398</td>\n",
       "    </tr>\n",
       "    <tr>\n",
       "      <th>min</th>\n",
       "      <td>6.000000</td>\n",
       "      <td>1002.000000</td>\n",
       "      <td>2238.000000</td>\n",
       "      <td>24242.000000</td>\n",
       "      <td>36164.000000</td>\n",
       "      <td>68901.000000</td>\n",
       "      <td>127600.000000</td>\n",
       "      <td>8.000000</td>\n",
       "      <td>1380.000000</td>\n",
       "      <td>1540.000000</td>\n",
       "      <td>30.000000</td>\n",
       "      <td>34.000000</td>\n",
       "    </tr>\n",
       "    <tr>\n",
       "      <th>25%</th>\n",
       "      <td>7.250000</td>\n",
       "      <td>5315.750000</td>\n",
       "      <td>7405.500000</td>\n",
       "      <td>25735.000000</td>\n",
       "      <td>41669.750000</td>\n",
       "      <td>70503.250000</td>\n",
       "      <td>128875.000000</td>\n",
       "      <td>8.250000</td>\n",
       "      <td>1393.750000</td>\n",
       "      <td>1552.500000</td>\n",
       "      <td>31.000000</td>\n",
       "      <td>34.250000</td>\n",
       "    </tr>\n",
       "    <tr>\n",
       "      <th>50%</th>\n",
       "      <td>8.500000</td>\n",
       "      <td>7287.000000</td>\n",
       "      <td>13112.500000</td>\n",
       "      <td>30313.000000</td>\n",
       "      <td>43628.000000</td>\n",
       "      <td>71382.500000</td>\n",
       "      <td>131500.000000</td>\n",
       "      <td>9.500000</td>\n",
       "      <td>1412.500000</td>\n",
       "      <td>1560.000000</td>\n",
       "      <td>31.000000</td>\n",
       "      <td>35.000000</td>\n",
       "    </tr>\n",
       "    <tr>\n",
       "      <th>75%</th>\n",
       "      <td>9.750000</td>\n",
       "      <td>11925.250000</td>\n",
       "      <td>21294.500000</td>\n",
       "      <td>31027.750000</td>\n",
       "      <td>46578.500000</td>\n",
       "      <td>71751.750000</td>\n",
       "      <td>133450.000000</td>\n",
       "      <td>10.000000</td>\n",
       "      <td>1427.500000</td>\n",
       "      <td>1567.500000</td>\n",
       "      <td>31.750000</td>\n",
       "      <td>35.000000</td>\n",
       "    </tr>\n",
       "    <tr>\n",
       "      <th>max</th>\n",
       "      <td>11.000000</td>\n",
       "      <td>14774.000000</td>\n",
       "      <td>25367.000000</td>\n",
       "      <td>35737.000000</td>\n",
       "      <td>47836.000000</td>\n",
       "      <td>71827.000000</td>\n",
       "      <td>151600.000000</td>\n",
       "      <td>13.000000</td>\n",
       "      <td>1530.000000</td>\n",
       "      <td>1590.000000</td>\n",
       "      <td>34.000000</td>\n",
       "      <td>35.000000</td>\n",
       "    </tr>\n",
       "  </tbody>\n",
       "</table>\n",
       "</div>"
      ],
      "text/plain": [
       "            Rank  Undergraduate Population  Student Population     Net Price  \\\n",
       "count   6.000000                  6.000000            6.000000      6.000000   \n",
       "mean    8.500000               8080.000000        13892.500000  29346.666667   \n",
       "std     1.870829               5222.180656         9215.999756   4435.287078   \n",
       "min     6.000000               1002.000000         2238.000000  24242.000000   \n",
       "25%     7.250000               5315.750000         7405.500000  25735.000000   \n",
       "50%     8.500000               7287.000000        13112.500000  30313.000000   \n",
       "75%     9.750000              11925.250000        21294.500000  31027.750000   \n",
       "max    11.000000              14774.000000        25367.000000  35737.000000   \n",
       "\n",
       "       Average Grant Aid  Total Annual Cost  Alumni Salary  Acceptance Rate  \\\n",
       "count           6.000000           6.000000       6.000000         6.000000   \n",
       "mean        43305.833333       70929.666667  134050.000000         9.666667   \n",
       "std          4313.442218        1150.522606    8917.118369         1.861899   \n",
       "min         36164.000000       68901.000000  127600.000000         8.000000   \n",
       "25%         41669.750000       70503.250000  128875.000000         8.250000   \n",
       "50%         43628.000000       71382.500000  131500.000000         9.500000   \n",
       "75%         46578.500000       71751.750000  133450.000000        10.000000   \n",
       "max         47836.000000       71827.000000  151600.000000        13.000000   \n",
       "\n",
       "         SAT Lower    SAT Upper  ACT Lower  ACT Upper  \n",
       "count     6.000000     6.000000   6.000000   6.000000  \n",
       "mean   1425.833333  1561.666667  31.500000  34.666667  \n",
       "std      54.260176    17.224014   1.378405   0.516398  \n",
       "min    1380.000000  1540.000000  30.000000  34.000000  \n",
       "25%    1393.750000  1552.500000  31.000000  34.250000  \n",
       "50%    1412.500000  1560.000000  31.000000  35.000000  \n",
       "75%    1427.500000  1567.500000  31.750000  35.000000  \n",
       "max    1530.000000  1590.000000  34.000000  35.000000  "
      ]
     },
     "execution_count": 7,
     "metadata": {},
     "output_type": "execute_result"
    }
   ],
   "source": [
    "c2.describe()"
   ]
  },
  {
   "cell_type": "code",
   "execution_count": 8,
   "id": "db5fc098",
   "metadata": {},
   "outputs": [
    {
     "name": "stdout",
     "output_type": "stream",
     "text": [
      "<class 'pandas.core.frame.DataFrame'>\n",
      "RangeIndex: 5 entries, 0 to 4\n",
      "Data columns (total 17 columns):\n",
      " #   Column                    Non-Null Count  Dtype  \n",
      "---  ------                    --------------  -----  \n",
      " 0   Rank                      5 non-null      float64\n",
      " 1   Name                      5 non-null      object \n",
      " 2   City                      5 non-null      object \n",
      " 3   State                     5 non-null      object \n",
      " 4   Public/Private            5 non-null      object \n",
      " 5   Undergraduate Population  5 non-null      float64\n",
      " 6   Student Population        5 non-null      float64\n",
      " 7   Net Price                 5 non-null      float64\n",
      " 8   Average Grant Aid         5 non-null      float64\n",
      " 9   Total Annual Cost         5 non-null      float64\n",
      " 10  Alumni Salary             5 non-null      float64\n",
      " 11  Acceptance Rate           5 non-null      float64\n",
      " 12  SAT Lower                 5 non-null      float64\n",
      " 13  SAT Upper                 5 non-null      float64\n",
      " 14  ACT Lower                 5 non-null      float64\n",
      " 15  ACT Upper                 5 non-null      float64\n",
      " 16  Website                   5 non-null      object \n",
      "dtypes: float64(12), object(5)\n",
      "memory usage: 808.0+ bytes\n"
     ]
    }
   ],
   "source": [
    "c1.info()\n"
   ]
  },
  {
   "cell_type": "code",
   "execution_count": 9,
   "id": "4acf0ed8",
   "metadata": {},
   "outputs": [
    {
     "data": {
      "text/plain": [
       "Harvard University                       1\n",
       "Yale University                          1\n",
       "Massachusetts Institute of Technology    1\n",
       "Stanford University                      1\n",
       "Princeton University                     1\n",
       "Name: Name, dtype: int64"
      ]
     },
     "execution_count": 9,
     "metadata": {},
     "output_type": "execute_result"
    }
   ],
   "source": [
    "c1[\"Name\"].value_counts()\n"
   ]
  },
  {
   "cell_type": "code",
   "execution_count": 10,
   "id": "b67ef6be",
   "metadata": {},
   "outputs": [
    {
     "data": {
      "text/plain": [
       "Cornell University                    1\n",
       "Duke University                       1\n",
       "University of Pennsylvania            1\n",
       "California Institute of Technology    1\n",
       "Dartmouth College                     1\n",
       "Brown University                      1\n",
       "Name: Name, dtype: int64"
      ]
     },
     "execution_count": 10,
     "metadata": {},
     "output_type": "execute_result"
    }
   ],
   "source": [
    "c2[\"Name\"].value_counts()\n"
   ]
  },
  {
   "cell_type": "code",
   "execution_count": 11,
   "id": "2b4295bf",
   "metadata": {},
   "outputs": [
    {
     "data": {
      "text/html": [
       "<div>\n",
       "<style scoped>\n",
       "    .dataframe tbody tr th:only-of-type {\n",
       "        vertical-align: middle;\n",
       "    }\n",
       "\n",
       "    .dataframe tbody tr th {\n",
       "        vertical-align: top;\n",
       "    }\n",
       "\n",
       "    .dataframe thead th {\n",
       "        text-align: right;\n",
       "    }\n",
       "</style>\n",
       "<table border=\"1\" class=\"dataframe\">\n",
       "  <thead>\n",
       "    <tr style=\"text-align: right;\">\n",
       "      <th></th>\n",
       "      <th>Rank</th>\n",
       "      <th>Name</th>\n",
       "      <th>City</th>\n",
       "      <th>State</th>\n",
       "      <th>Public/Private</th>\n",
       "      <th>Undergraduate Population</th>\n",
       "      <th>Student Population</th>\n",
       "      <th>Net Price</th>\n",
       "      <th>Average Grant Aid</th>\n",
       "      <th>Total Annual Cost</th>\n",
       "      <th>Alumni Salary</th>\n",
       "      <th>Acceptance Rate</th>\n",
       "      <th>SAT Lower</th>\n",
       "      <th>SAT Upper</th>\n",
       "      <th>ACT Lower</th>\n",
       "      <th>ACT Upper</th>\n",
       "      <th>Website</th>\n",
       "    </tr>\n",
       "  </thead>\n",
       "  <tbody>\n",
       "    <tr>\n",
       "      <th>0</th>\n",
       "      <td>1.0</td>\n",
       "      <td>Harvard University</td>\n",
       "      <td>Cambridge</td>\n",
       "      <td>MA</td>\n",
       "      <td>Private</td>\n",
       "      <td>13844.0</td>\n",
       "      <td>31120.0</td>\n",
       "      <td>14327.0</td>\n",
       "      <td>49870.0</td>\n",
       "      <td>69600.0</td>\n",
       "      <td>146800.0</td>\n",
       "      <td>5.0</td>\n",
       "      <td>1460.0</td>\n",
       "      <td>1590.0</td>\n",
       "      <td>32.0</td>\n",
       "      <td>35.0</td>\n",
       "      <td>www.harvard.edu</td>\n",
       "    </tr>\n",
       "    <tr>\n",
       "      <th>1</th>\n",
       "      <td>2.0</td>\n",
       "      <td>Stanford University</td>\n",
       "      <td>Stanford</td>\n",
       "      <td>CA</td>\n",
       "      <td>Private</td>\n",
       "      <td>8402.0</td>\n",
       "      <td>17534.0</td>\n",
       "      <td>13261.0</td>\n",
       "      <td>50134.0</td>\n",
       "      <td>69109.0</td>\n",
       "      <td>145200.0</td>\n",
       "      <td>5.0</td>\n",
       "      <td>1390.0</td>\n",
       "      <td>1540.0</td>\n",
       "      <td>32.0</td>\n",
       "      <td>35.0</td>\n",
       "      <td>www.stanford.edu</td>\n",
       "    </tr>\n",
       "    <tr>\n",
       "      <th>2</th>\n",
       "      <td>3.0</td>\n",
       "      <td>Yale University</td>\n",
       "      <td>New Haven</td>\n",
       "      <td>CT</td>\n",
       "      <td>Private</td>\n",
       "      <td>6483.0</td>\n",
       "      <td>12974.0</td>\n",
       "      <td>18627.0</td>\n",
       "      <td>50897.0</td>\n",
       "      <td>71290.0</td>\n",
       "      <td>138300.0</td>\n",
       "      <td>7.0</td>\n",
       "      <td>1460.0</td>\n",
       "      <td>1580.0</td>\n",
       "      <td>32.0</td>\n",
       "      <td>35.0</td>\n",
       "      <td>www.yale.edu</td>\n",
       "    </tr>\n",
       "    <tr>\n",
       "      <th>3</th>\n",
       "      <td>4.0</td>\n",
       "      <td>Massachusetts Institute of Technology</td>\n",
       "      <td>Cambridge</td>\n",
       "      <td>MA</td>\n",
       "      <td>Private</td>\n",
       "      <td>4680.0</td>\n",
       "      <td>11466.0</td>\n",
       "      <td>20771.0</td>\n",
       "      <td>43248.0</td>\n",
       "      <td>67430.0</td>\n",
       "      <td>155200.0</td>\n",
       "      <td>7.0</td>\n",
       "      <td>1490.0</td>\n",
       "      <td>1570.0</td>\n",
       "      <td>33.0</td>\n",
       "      <td>35.0</td>\n",
       "      <td>web.mit.edu</td>\n",
       "    </tr>\n",
       "    <tr>\n",
       "      <th>4</th>\n",
       "      <td>5.0</td>\n",
       "      <td>Princeton University</td>\n",
       "      <td>Princeton</td>\n",
       "      <td>NJ</td>\n",
       "      <td>Private</td>\n",
       "      <td>5659.0</td>\n",
       "      <td>8273.0</td>\n",
       "      <td>9327.0</td>\n",
       "      <td>48088.0</td>\n",
       "      <td>66150.0</td>\n",
       "      <td>139400.0</td>\n",
       "      <td>6.0</td>\n",
       "      <td>1430.0</td>\n",
       "      <td>1570.0</td>\n",
       "      <td>31.0</td>\n",
       "      <td>35.0</td>\n",
       "      <td>www.princeton.edu</td>\n",
       "    </tr>\n",
       "    <tr>\n",
       "      <th>0</th>\n",
       "      <td>6.0</td>\n",
       "      <td>University of Pennsylvania</td>\n",
       "      <td>Philadelphia</td>\n",
       "      <td>PA</td>\n",
       "      <td>Private</td>\n",
       "      <td>13437.0</td>\n",
       "      <td>25367.0</td>\n",
       "      <td>24242.0</td>\n",
       "      <td>44801.0</td>\n",
       "      <td>71715.0</td>\n",
       "      <td>133900.0</td>\n",
       "      <td>9.0</td>\n",
       "      <td>1420.0</td>\n",
       "      <td>1560.0</td>\n",
       "      <td>32.0</td>\n",
       "      <td>35.0</td>\n",
       "      <td>www.upenn.edu</td>\n",
       "    </tr>\n",
       "    <tr>\n",
       "      <th>1</th>\n",
       "      <td>7.0</td>\n",
       "      <td>Brown University</td>\n",
       "      <td>Providence</td>\n",
       "      <td>RI</td>\n",
       "      <td>Private</td>\n",
       "      <td>7390.0</td>\n",
       "      <td>10095.0</td>\n",
       "      <td>30205.0</td>\n",
       "      <td>42455.0</td>\n",
       "      <td>71050.0</td>\n",
       "      <td>127600.0</td>\n",
       "      <td>8.0</td>\n",
       "      <td>1405.0</td>\n",
       "      <td>1570.0</td>\n",
       "      <td>31.0</td>\n",
       "      <td>35.0</td>\n",
       "      <td>www.brown.edu</td>\n",
       "    </tr>\n",
       "    <tr>\n",
       "      <th>2</th>\n",
       "      <td>8.0</td>\n",
       "      <td>California Institute of Technology</td>\n",
       "      <td>Pasadena</td>\n",
       "      <td>CA</td>\n",
       "      <td>Private</td>\n",
       "      <td>1002.0</td>\n",
       "      <td>2238.0</td>\n",
       "      <td>24245.0</td>\n",
       "      <td>41408.0</td>\n",
       "      <td>68901.0</td>\n",
       "      <td>151600.0</td>\n",
       "      <td>8.0</td>\n",
       "      <td>1530.0</td>\n",
       "      <td>1590.0</td>\n",
       "      <td>34.0</td>\n",
       "      <td>35.0</td>\n",
       "      <td>www.caltech.edu</td>\n",
       "    </tr>\n",
       "    <tr>\n",
       "      <th>3</th>\n",
       "      <td>9.0</td>\n",
       "      <td>Duke University</td>\n",
       "      <td>Durham</td>\n",
       "      <td>NC</td>\n",
       "      <td>Private</td>\n",
       "      <td>7184.0</td>\n",
       "      <td>16130.0</td>\n",
       "      <td>35737.0</td>\n",
       "      <td>47836.0</td>\n",
       "      <td>71764.0</td>\n",
       "      <td>132100.0</td>\n",
       "      <td>10.0</td>\n",
       "      <td>1380.0</td>\n",
       "      <td>1540.0</td>\n",
       "      <td>31.0</td>\n",
       "      <td>35.0</td>\n",
       "      <td>www.duke.edu</td>\n",
       "    </tr>\n",
       "    <tr>\n",
       "      <th>4</th>\n",
       "      <td>10.0</td>\n",
       "      <td>Dartmouth College</td>\n",
       "      <td>Hanover</td>\n",
       "      <td>NH</td>\n",
       "      <td>Private</td>\n",
       "      <td>4693.0</td>\n",
       "      <td>6509.0</td>\n",
       "      <td>30421.0</td>\n",
       "      <td>47171.0</td>\n",
       "      <td>71827.0</td>\n",
       "      <td>130900.0</td>\n",
       "      <td>10.0</td>\n",
       "      <td>1430.0</td>\n",
       "      <td>1560.0</td>\n",
       "      <td>30.0</td>\n",
       "      <td>34.0</td>\n",
       "      <td>www.dartmouth.edu</td>\n",
       "    </tr>\n",
       "    <tr>\n",
       "      <th>5</th>\n",
       "      <td>11.0</td>\n",
       "      <td>Cornell University</td>\n",
       "      <td>Ithaca</td>\n",
       "      <td>NY</td>\n",
       "      <td>Private</td>\n",
       "      <td>14774.0</td>\n",
       "      <td>23016.0</td>\n",
       "      <td>31230.0</td>\n",
       "      <td>36164.0</td>\n",
       "      <td>70321.0</td>\n",
       "      <td>128200.0</td>\n",
       "      <td>13.0</td>\n",
       "      <td>1390.0</td>\n",
       "      <td>1550.0</td>\n",
       "      <td>31.0</td>\n",
       "      <td>34.0</td>\n",
       "      <td>www.cornell.edu</td>\n",
       "    </tr>\n",
       "  </tbody>\n",
       "</table>\n",
       "</div>"
      ],
      "text/plain": [
       "   Rank                                   Name          City State  \\\n",
       "0   1.0                     Harvard University     Cambridge    MA   \n",
       "1   2.0                    Stanford University      Stanford    CA   \n",
       "2   3.0                        Yale University     New Haven    CT   \n",
       "3   4.0  Massachusetts Institute of Technology     Cambridge    MA   \n",
       "4   5.0                   Princeton University     Princeton    NJ   \n",
       "0   6.0             University of Pennsylvania  Philadelphia    PA   \n",
       "1   7.0                       Brown University    Providence    RI   \n",
       "2   8.0     California Institute of Technology      Pasadena    CA   \n",
       "3   9.0                        Duke University        Durham    NC   \n",
       "4  10.0                      Dartmouth College       Hanover    NH   \n",
       "5  11.0                     Cornell University        Ithaca    NY   \n",
       "\n",
       "  Public/Private  Undergraduate Population  Student Population  Net Price  \\\n",
       "0        Private                   13844.0             31120.0    14327.0   \n",
       "1        Private                    8402.0             17534.0    13261.0   \n",
       "2        Private                    6483.0             12974.0    18627.0   \n",
       "3        Private                    4680.0             11466.0    20771.0   \n",
       "4        Private                    5659.0              8273.0     9327.0   \n",
       "0        Private                   13437.0             25367.0    24242.0   \n",
       "1        Private                    7390.0             10095.0    30205.0   \n",
       "2        Private                    1002.0              2238.0    24245.0   \n",
       "3        Private                    7184.0             16130.0    35737.0   \n",
       "4        Private                    4693.0              6509.0    30421.0   \n",
       "5        Private                   14774.0             23016.0    31230.0   \n",
       "\n",
       "   Average Grant Aid  Total Annual Cost  Alumni Salary  Acceptance Rate  \\\n",
       "0            49870.0            69600.0       146800.0              5.0   \n",
       "1            50134.0            69109.0       145200.0              5.0   \n",
       "2            50897.0            71290.0       138300.0              7.0   \n",
       "3            43248.0            67430.0       155200.0              7.0   \n",
       "4            48088.0            66150.0       139400.0              6.0   \n",
       "0            44801.0            71715.0       133900.0              9.0   \n",
       "1            42455.0            71050.0       127600.0              8.0   \n",
       "2            41408.0            68901.0       151600.0              8.0   \n",
       "3            47836.0            71764.0       132100.0             10.0   \n",
       "4            47171.0            71827.0       130900.0             10.0   \n",
       "5            36164.0            70321.0       128200.0             13.0   \n",
       "\n",
       "   SAT Lower  SAT Upper  ACT Lower  ACT Upper            Website  \n",
       "0     1460.0     1590.0       32.0       35.0    www.harvard.edu  \n",
       "1     1390.0     1540.0       32.0       35.0   www.stanford.edu  \n",
       "2     1460.0     1580.0       32.0       35.0       www.yale.edu  \n",
       "3     1490.0     1570.0       33.0       35.0        web.mit.edu  \n",
       "4     1430.0     1570.0       31.0       35.0  www.princeton.edu  \n",
       "0     1420.0     1560.0       32.0       35.0      www.upenn.edu  \n",
       "1     1405.0     1570.0       31.0       35.0      www.brown.edu  \n",
       "2     1530.0     1590.0       34.0       35.0    www.caltech.edu  \n",
       "3     1380.0     1540.0       31.0       35.0       www.duke.edu  \n",
       "4     1430.0     1560.0       30.0       34.0  www.dartmouth.edu  \n",
       "5     1390.0     1550.0       31.0       34.0    www.cornell.edu  "
      ]
     },
     "execution_count": 11,
     "metadata": {},
     "output_type": "execute_result"
    }
   ],
   "source": [
    "pd.concat([c1, c2],axis=0)"
   ]
  },
  {
   "cell_type": "code",
   "execution_count": 12,
   "id": "70fa9bb9",
   "metadata": {},
   "outputs": [],
   "source": [
    "col1 = pd.read_csv(\"col1.csv\")\n",
    "col2 = pd.read_csv(\"col2.csv\")"
   ]
  },
  {
   "cell_type": "code",
   "execution_count": 13,
   "id": "9fd82569",
   "metadata": {},
   "outputs": [
    {
     "data": {
      "text/html": [
       "<div>\n",
       "<style scoped>\n",
       "    .dataframe tbody tr th:only-of-type {\n",
       "        vertical-align: middle;\n",
       "    }\n",
       "\n",
       "    .dataframe tbody tr th {\n",
       "        vertical-align: top;\n",
       "    }\n",
       "\n",
       "    .dataframe thead th {\n",
       "        text-align: right;\n",
       "    }\n",
       "</style>\n",
       "<table border=\"1\" class=\"dataframe\">\n",
       "  <thead>\n",
       "    <tr style=\"text-align: right;\">\n",
       "      <th></th>\n",
       "      <th>Rank</th>\n",
       "    </tr>\n",
       "  </thead>\n",
       "  <tbody>\n",
       "    <tr>\n",
       "      <th>count</th>\n",
       "      <td>2.000000</td>\n",
       "    </tr>\n",
       "    <tr>\n",
       "      <th>mean</th>\n",
       "      <td>1.500000</td>\n",
       "    </tr>\n",
       "    <tr>\n",
       "      <th>std</th>\n",
       "      <td>0.707107</td>\n",
       "    </tr>\n",
       "    <tr>\n",
       "      <th>min</th>\n",
       "      <td>1.000000</td>\n",
       "    </tr>\n",
       "    <tr>\n",
       "      <th>25%</th>\n",
       "      <td>1.250000</td>\n",
       "    </tr>\n",
       "    <tr>\n",
       "      <th>50%</th>\n",
       "      <td>1.500000</td>\n",
       "    </tr>\n",
       "    <tr>\n",
       "      <th>75%</th>\n",
       "      <td>1.750000</td>\n",
       "    </tr>\n",
       "    <tr>\n",
       "      <th>max</th>\n",
       "      <td>2.000000</td>\n",
       "    </tr>\n",
       "  </tbody>\n",
       "</table>\n",
       "</div>"
      ],
      "text/plain": [
       "           Rank\n",
       "count  2.000000\n",
       "mean   1.500000\n",
       "std    0.707107\n",
       "min    1.000000\n",
       "25%    1.250000\n",
       "50%    1.500000\n",
       "75%    1.750000\n",
       "max    2.000000"
      ]
     },
     "execution_count": 13,
     "metadata": {},
     "output_type": "execute_result"
    }
   ],
   "source": [
    "col1.describe()\n"
   ]
  },
  {
   "cell_type": "code",
   "execution_count": 14,
   "id": "5d26fdf3",
   "metadata": {},
   "outputs": [
    {
     "data": {
      "text/html": [
       "<div>\n",
       "<style scoped>\n",
       "    .dataframe tbody tr th:only-of-type {\n",
       "        vertical-align: middle;\n",
       "    }\n",
       "\n",
       "    .dataframe tbody tr th {\n",
       "        vertical-align: top;\n",
       "    }\n",
       "\n",
       "    .dataframe thead th {\n",
       "        text-align: right;\n",
       "    }\n",
       "</style>\n",
       "<table border=\"1\" class=\"dataframe\">\n",
       "  <thead>\n",
       "    <tr style=\"text-align: right;\">\n",
       "      <th></th>\n",
       "      <th>Undergraduate Population</th>\n",
       "      <th>Student Population</th>\n",
       "      <th>Net Price</th>\n",
       "      <th>Average Grant Aid</th>\n",
       "      <th>Total Annual Cost</th>\n",
       "      <th>Alumni Salary</th>\n",
       "      <th>Acceptance Rate</th>\n",
       "      <th>SAT Lower</th>\n",
       "      <th>SAT Upper</th>\n",
       "      <th>ACT Lower</th>\n",
       "      <th>ACT Upper</th>\n",
       "    </tr>\n",
       "  </thead>\n",
       "  <tbody>\n",
       "    <tr>\n",
       "      <th>count</th>\n",
       "      <td>2.000000</td>\n",
       "      <td>2.000000</td>\n",
       "      <td>2.000000</td>\n",
       "      <td>2.00000</td>\n",
       "      <td>2.00000</td>\n",
       "      <td>2.00000</td>\n",
       "      <td>2.0</td>\n",
       "      <td>2.000000</td>\n",
       "      <td>2.000000</td>\n",
       "      <td>2.0</td>\n",
       "      <td>2.0</td>\n",
       "    </tr>\n",
       "    <tr>\n",
       "      <th>mean</th>\n",
       "      <td>11123.000000</td>\n",
       "      <td>24327.000000</td>\n",
       "      <td>13794.000000</td>\n",
       "      <td>50002.00000</td>\n",
       "      <td>69354.50000</td>\n",
       "      <td>146000.00000</td>\n",
       "      <td>5.0</td>\n",
       "      <td>1425.000000</td>\n",
       "      <td>1565.000000</td>\n",
       "      <td>32.0</td>\n",
       "      <td>35.0</td>\n",
       "    </tr>\n",
       "    <tr>\n",
       "      <th>std</th>\n",
       "      <td>3848.075103</td>\n",
       "      <td>9606.752729</td>\n",
       "      <td>753.775829</td>\n",
       "      <td>186.67619</td>\n",
       "      <td>347.18943</td>\n",
       "      <td>1131.37085</td>\n",
       "      <td>0.0</td>\n",
       "      <td>49.497475</td>\n",
       "      <td>35.355339</td>\n",
       "      <td>0.0</td>\n",
       "      <td>0.0</td>\n",
       "    </tr>\n",
       "    <tr>\n",
       "      <th>min</th>\n",
       "      <td>8402.000000</td>\n",
       "      <td>17534.000000</td>\n",
       "      <td>13261.000000</td>\n",
       "      <td>49870.00000</td>\n",
       "      <td>69109.00000</td>\n",
       "      <td>145200.00000</td>\n",
       "      <td>5.0</td>\n",
       "      <td>1390.000000</td>\n",
       "      <td>1540.000000</td>\n",
       "      <td>32.0</td>\n",
       "      <td>35.0</td>\n",
       "    </tr>\n",
       "    <tr>\n",
       "      <th>25%</th>\n",
       "      <td>9762.500000</td>\n",
       "      <td>20930.500000</td>\n",
       "      <td>13527.500000</td>\n",
       "      <td>49936.00000</td>\n",
       "      <td>69231.75000</td>\n",
       "      <td>145600.00000</td>\n",
       "      <td>5.0</td>\n",
       "      <td>1407.500000</td>\n",
       "      <td>1552.500000</td>\n",
       "      <td>32.0</td>\n",
       "      <td>35.0</td>\n",
       "    </tr>\n",
       "    <tr>\n",
       "      <th>50%</th>\n",
       "      <td>11123.000000</td>\n",
       "      <td>24327.000000</td>\n",
       "      <td>13794.000000</td>\n",
       "      <td>50002.00000</td>\n",
       "      <td>69354.50000</td>\n",
       "      <td>146000.00000</td>\n",
       "      <td>5.0</td>\n",
       "      <td>1425.000000</td>\n",
       "      <td>1565.000000</td>\n",
       "      <td>32.0</td>\n",
       "      <td>35.0</td>\n",
       "    </tr>\n",
       "    <tr>\n",
       "      <th>75%</th>\n",
       "      <td>12483.500000</td>\n",
       "      <td>27723.500000</td>\n",
       "      <td>14060.500000</td>\n",
       "      <td>50068.00000</td>\n",
       "      <td>69477.25000</td>\n",
       "      <td>146400.00000</td>\n",
       "      <td>5.0</td>\n",
       "      <td>1442.500000</td>\n",
       "      <td>1577.500000</td>\n",
       "      <td>32.0</td>\n",
       "      <td>35.0</td>\n",
       "    </tr>\n",
       "    <tr>\n",
       "      <th>max</th>\n",
       "      <td>13844.000000</td>\n",
       "      <td>31120.000000</td>\n",
       "      <td>14327.000000</td>\n",
       "      <td>50134.00000</td>\n",
       "      <td>69600.00000</td>\n",
       "      <td>146800.00000</td>\n",
       "      <td>5.0</td>\n",
       "      <td>1460.000000</td>\n",
       "      <td>1590.000000</td>\n",
       "      <td>32.0</td>\n",
       "      <td>35.0</td>\n",
       "    </tr>\n",
       "  </tbody>\n",
       "</table>\n",
       "</div>"
      ],
      "text/plain": [
       "       Undergraduate Population  Student Population     Net Price  \\\n",
       "count                  2.000000            2.000000      2.000000   \n",
       "mean               11123.000000        24327.000000  13794.000000   \n",
       "std                 3848.075103         9606.752729    753.775829   \n",
       "min                 8402.000000        17534.000000  13261.000000   \n",
       "25%                 9762.500000        20930.500000  13527.500000   \n",
       "50%                11123.000000        24327.000000  13794.000000   \n",
       "75%                12483.500000        27723.500000  14060.500000   \n",
       "max                13844.000000        31120.000000  14327.000000   \n",
       "\n",
       "       Average Grant Aid  Total Annual Cost  Alumni Salary  Acceptance Rate  \\\n",
       "count            2.00000            2.00000        2.00000              2.0   \n",
       "mean         50002.00000        69354.50000   146000.00000              5.0   \n",
       "std            186.67619          347.18943     1131.37085              0.0   \n",
       "min          49870.00000        69109.00000   145200.00000              5.0   \n",
       "25%          49936.00000        69231.75000   145600.00000              5.0   \n",
       "50%          50002.00000        69354.50000   146000.00000              5.0   \n",
       "75%          50068.00000        69477.25000   146400.00000              5.0   \n",
       "max          50134.00000        69600.00000   146800.00000              5.0   \n",
       "\n",
       "         SAT Lower    SAT Upper  ACT Lower  ACT Upper  \n",
       "count     2.000000     2.000000        2.0        2.0  \n",
       "mean   1425.000000  1565.000000       32.0       35.0  \n",
       "std      49.497475    35.355339        0.0        0.0  \n",
       "min    1390.000000  1540.000000       32.0       35.0  \n",
       "25%    1407.500000  1552.500000       32.0       35.0  \n",
       "50%    1425.000000  1565.000000       32.0       35.0  \n",
       "75%    1442.500000  1577.500000       32.0       35.0  \n",
       "max    1460.000000  1590.000000       32.0       35.0  "
      ]
     },
     "execution_count": 14,
     "metadata": {},
     "output_type": "execute_result"
    }
   ],
   "source": [
    "col2.describe()\n"
   ]
  },
  {
   "cell_type": "code",
   "execution_count": 17,
   "id": "4c661b88",
   "metadata": {},
   "outputs": [],
   "source": [
    "sum=pd.concat([col1, col2],axis=1)"
   ]
  },
  {
   "cell_type": "code",
   "execution_count": 18,
   "id": "20e1b0dd",
   "metadata": {},
   "outputs": [
    {
     "name": "stdout",
     "output_type": "stream",
     "text": [
      "<class 'pandas.core.frame.DataFrame'>\n",
      "RangeIndex: 2 entries, 0 to 1\n",
      "Data columns (total 17 columns):\n",
      " #   Column                    Non-Null Count  Dtype  \n",
      "---  ------                    --------------  -----  \n",
      " 0   Rank                      2 non-null      float64\n",
      " 1   Name                      2 non-null      object \n",
      " 2   City                      2 non-null      object \n",
      " 3   State                     2 non-null      object \n",
      " 4   Public/Private            2 non-null      object \n",
      " 5   Undergraduate Population  2 non-null      float64\n",
      " 6   Student Population        2 non-null      float64\n",
      " 7   Net Price                 2 non-null      float64\n",
      " 8   Average Grant Aid         2 non-null      float64\n",
      " 9   Total Annual Cost         2 non-null      float64\n",
      " 10  Alumni Salary             2 non-null      float64\n",
      " 11  Acceptance Rate           2 non-null      float64\n",
      " 12  SAT Lower                 2 non-null      float64\n",
      " 13  SAT Upper                 2 non-null      float64\n",
      " 14  ACT Lower                 2 non-null      float64\n",
      " 15  ACT Upper                 2 non-null      float64\n",
      " 16  Website                   2 non-null      object \n",
      "dtypes: float64(12), object(5)\n",
      "memory usage: 400.0+ bytes\n"
     ]
    }
   ],
   "source": [
    "sum.info()\n"
   ]
  },
  {
   "cell_type": "code",
   "execution_count": 19,
   "id": "187d9260",
   "metadata": {},
   "outputs": [
    {
     "data": {
      "text/plain": [
       "array([5.])"
      ]
     },
     "execution_count": 19,
     "metadata": {},
     "output_type": "execute_result"
    }
   ],
   "source": [
    "pd.unique(sum['Acceptance Rate'])"
   ]
  },
  {
   "cell_type": "code",
   "execution_count": 20,
   "id": "d053e117",
   "metadata": {},
   "outputs": [
    {
     "data": {
      "text/plain": [
       "5.0    2\n",
       "Name: Acceptance Rate, dtype: int64"
      ]
     },
     "execution_count": 20,
     "metadata": {},
     "output_type": "execute_result"
    }
   ],
   "source": [
    "sum[\"Acceptance Rate\"].value_counts()"
   ]
  },
  {
   "cell_type": "code",
   "execution_count": 27,
   "id": "56b83a89",
   "metadata": {},
   "outputs": [
    {
     "data": {
      "text/plain": [
       "array(['MA', 'CA', 'CT', 'NJ', 'PA', 'RI', 'NC', 'NH', 'NY', 'DC', 'IL',\n",
       "       'IN', 'MI', 'TX', 'MD', 'ME', 'TN', 'MO', 'VA', 'VT', 'CO', 'MN',\n",
       "       'GA', 'WA', 'WI', 'FL', 'OH', 'IA', 'UT', 'OR', 'LA', 'SC', 'DE',\n",
       "       'AL', 'AZ', 'OK', 'NE', 'KY', 'KS', 'AR', 'WY', 'NV', 'MS', 'ND',\n",
       "       'HI', 'MT', 'SD', 'NM', 'ID', 'WV', 'AK'], dtype=object)"
      ]
     },
     "execution_count": 27,
     "metadata": {},
     "output_type": "execute_result"
    }
   ],
   "source": [
    "pd.unique(colleges['State'])"
   ]
  },
  {
   "cell_type": "code",
   "execution_count": 30,
   "id": "cfa4ecad",
   "metadata": {},
   "outputs": [],
   "source": [
    "import numpy as np\n"
   ]
  },
  {
   "cell_type": "code",
   "execution_count": 31,
   "id": "798ab899",
   "metadata": {},
   "outputs": [],
   "source": [
    "array = np.array([[1, np.nan, 3], [4, 5, np.nan]])\n"
   ]
  },
  {
   "cell_type": "code",
   "execution_count": 32,
   "id": "7bda3873",
   "metadata": {},
   "outputs": [
    {
     "data": {
      "text/plain": [
       "array([[ 1., nan,  3.],\n",
       "       [ 4.,  5., nan]])"
      ]
     },
     "execution_count": 32,
     "metadata": {},
     "output_type": "execute_result"
    }
   ],
   "source": [
    "array"
   ]
  },
  {
   "cell_type": "code",
   "execution_count": 33,
   "id": "c4890dab",
   "metadata": {},
   "outputs": [
    {
     "data": {
      "text/plain": [
       "array([[False,  True, False],\n",
       "       [False, False,  True]])"
      ]
     },
     "execution_count": 33,
     "metadata": {},
     "output_type": "execute_result"
    }
   ],
   "source": [
    "pd.isna(array)\n"
   ]
  },
  {
   "cell_type": "code",
   "execution_count": 34,
   "id": "2e57e83c",
   "metadata": {},
   "outputs": [],
   "source": [
    "array[0][1]=5"
   ]
  },
  {
   "cell_type": "code",
   "execution_count": 35,
   "id": "b284491d",
   "metadata": {},
   "outputs": [
    {
     "data": {
      "text/plain": [
       "array([[ 1.,  5.,  3.],\n",
       "       [ 4.,  5., nan]])"
      ]
     },
     "execution_count": 35,
     "metadata": {},
     "output_type": "execute_result"
    }
   ],
   "source": [
    "array"
   ]
  },
  {
   "cell_type": "code",
   "execution_count": 36,
   "id": "825e82df",
   "metadata": {},
   "outputs": [
    {
     "data": {
      "text/plain": [
       "array([[False, False, False],\n",
       "       [False, False,  True]])"
      ]
     },
     "execution_count": 36,
     "metadata": {},
     "output_type": "execute_result"
    }
   ],
   "source": [
    "pd.isna(array)"
   ]
  },
  {
   "cell_type": "code",
   "execution_count": 37,
   "id": "0f9d7e8f",
   "metadata": {},
   "outputs": [],
   "source": [
    "s = pd.Series(['1.0', '2', -3])"
   ]
  },
  {
   "cell_type": "code",
   "execution_count": 38,
   "id": "0943a1bf",
   "metadata": {},
   "outputs": [
    {
     "data": {
      "text/plain": [
       "0    1.0\n",
       "1      2\n",
       "2     -3\n",
       "dtype: object"
      ]
     },
     "execution_count": 38,
     "metadata": {},
     "output_type": "execute_result"
    }
   ],
   "source": [
    "s"
   ]
  },
  {
   "cell_type": "code",
   "execution_count": 39,
   "id": "4efddecb",
   "metadata": {},
   "outputs": [
    {
     "data": {
      "text/plain": [
       "0    1.0\n",
       "1    2.0\n",
       "2   -3.0\n",
       "dtype: float64"
      ]
     },
     "execution_count": 39,
     "metadata": {},
     "output_type": "execute_result"
    }
   ],
   "source": [
    "pd.to_numeric(s)"
   ]
  },
  {
   "cell_type": "code",
   "execution_count": 40,
   "id": "05129733",
   "metadata": {},
   "outputs": [],
   "source": [
    "s[0]=1\n"
   ]
  },
  {
   "cell_type": "code",
   "execution_count": 41,
   "id": "edec776c",
   "metadata": {},
   "outputs": [
    {
     "data": {
      "text/plain": [
       "0     1\n",
       "1     2\n",
       "2    -3\n",
       "dtype: object"
      ]
     },
     "execution_count": 41,
     "metadata": {},
     "output_type": "execute_result"
    }
   ],
   "source": [
    "s"
   ]
  },
  {
   "cell_type": "code",
   "execution_count": 42,
   "id": "ac53c196",
   "metadata": {},
   "outputs": [
    {
     "data": {
      "text/plain": [
       "0    1\n",
       "1    2\n",
       "2   -3\n",
       "dtype: int64"
      ]
     },
     "execution_count": 42,
     "metadata": {},
     "output_type": "execute_result"
    }
   ],
   "source": [
    "pd.to_numeric(s)"
   ]
  },
  {
   "cell_type": "code",
   "execution_count": 43,
   "id": "0d8d3c27",
   "metadata": {},
   "outputs": [
    {
     "data": {
      "text/plain": [
       "datetime.datetime(1300, 1, 1, 0, 0)"
      ]
     },
     "execution_count": 43,
     "metadata": {},
     "output_type": "execute_result"
    }
   ],
   "source": [
    "pd.to_datetime('13000101', format='%Y%m%d', errors='ignore')"
   ]
  },
  {
   "cell_type": "code",
   "execution_count": 44,
   "id": "40b7eb46",
   "metadata": {},
   "outputs": [],
   "source": [
    "testdate = pd.to_datetime('13000101', format='%Y%m%d', errors='ignore')\n"
   ]
  },
  {
   "cell_type": "code",
   "execution_count": 45,
   "id": "98955554",
   "metadata": {},
   "outputs": [
    {
     "data": {
      "text/plain": [
       "datetime.datetime(1300, 1, 1, 0, 0)"
      ]
     },
     "execution_count": 45,
     "metadata": {},
     "output_type": "execute_result"
    }
   ],
   "source": [
    "testdate\n"
   ]
  },
  {
   "cell_type": "code",
   "execution_count": 46,
   "id": "ddd174ff",
   "metadata": {},
   "outputs": [],
   "source": [
    "s = pd.Series(['3/11/2000', '3/12/2000', '3/13/2000'] * 1000)"
   ]
  },
  {
   "cell_type": "code",
   "execution_count": 47,
   "id": "b0d5b7d3",
   "metadata": {},
   "outputs": [
    {
     "data": {
      "text/plain": [
       "0       3/11/2000\n",
       "1       3/12/2000\n",
       "2       3/13/2000\n",
       "3       3/11/2000\n",
       "4       3/12/2000\n",
       "          ...    \n",
       "2995    3/12/2000\n",
       "2996    3/13/2000\n",
       "2997    3/11/2000\n",
       "2998    3/12/2000\n",
       "2999    3/13/2000\n",
       "Length: 3000, dtype: object"
      ]
     },
     "execution_count": 47,
     "metadata": {},
     "output_type": "execute_result"
    }
   ],
   "source": [
    "s"
   ]
  },
  {
   "cell_type": "code",
   "execution_count": 48,
   "id": "41956b8d",
   "metadata": {},
   "outputs": [
    {
     "data": {
      "text/plain": [
       "0      2000-03-11\n",
       "1      2000-03-12\n",
       "2      2000-03-13\n",
       "3      2000-03-11\n",
       "4      2000-03-12\n",
       "          ...    \n",
       "2995   2000-03-12\n",
       "2996   2000-03-13\n",
       "2997   2000-03-11\n",
       "2998   2000-03-12\n",
       "2999   2000-03-13\n",
       "Length: 3000, dtype: datetime64[ns]"
      ]
     },
     "execution_count": 48,
     "metadata": {},
     "output_type": "execute_result"
    }
   ],
   "source": [
    "pd.to_datetime(s, infer_datetime_format=True) "
   ]
  },
  {
   "cell_type": "code",
   "execution_count": 49,
   "id": "be702af0",
   "metadata": {},
   "outputs": [
    {
     "data": {
      "text/plain": [
       "Index(['Rank', 'Name', 'City', 'State', 'Public/Private',\n",
       "       'Undergraduate Population', 'Student Population', 'Net Price',\n",
       "       'Average Grant Aid', 'Total Annual Cost', 'Alumni Salary',\n",
       "       'Acceptance Rate', 'SAT Lower', 'SAT Upper', 'ACT Lower', 'ACT Upper',\n",
       "       'Website'],\n",
       "      dtype='object')"
      ]
     },
     "execution_count": 49,
     "metadata": {},
     "output_type": "execute_result"
    }
   ],
   "source": [
    "colleges.columns\n"
   ]
  },
  {
   "cell_type": "code",
   "execution_count": 50,
   "id": "fadacb50",
   "metadata": {},
   "outputs": [
    {
     "data": {
      "text/plain": [
       "RangeIndex(start=0, stop=650, step=1)"
      ]
     },
     "execution_count": 50,
     "metadata": {},
     "output_type": "execute_result"
    }
   ],
   "source": [
    "colleges.index"
   ]
  },
  {
   "cell_type": "code",
   "execution_count": 51,
   "id": "d5c3d513",
   "metadata": {},
   "outputs": [
    {
     "data": {
      "text/plain": [
       "Rank                        float64\n",
       "Name                         object\n",
       "City                         object\n",
       "State                        object\n",
       "Public/Private               object\n",
       "Undergraduate Population    float64\n",
       "Student Population          float64\n",
       "Net Price                   float64\n",
       "Average Grant Aid           float64\n",
       "Total Annual Cost           float64\n",
       "Alumni Salary               float64\n",
       "Acceptance Rate             float64\n",
       "SAT Lower                   float64\n",
       "SAT Upper                   float64\n",
       "ACT Lower                   float64\n",
       "ACT Upper                   float64\n",
       "Website                      object\n",
       "dtype: object"
      ]
     },
     "execution_count": 51,
     "metadata": {},
     "output_type": "execute_result"
    }
   ],
   "source": [
    "colleges.dtypes\n"
   ]
  },
  {
   "cell_type": "code",
   "execution_count": 52,
   "id": "16c9dea0",
   "metadata": {},
   "outputs": [
    {
     "data": {
      "text/plain": [
       "array([[1.0, 'Harvard University', 'Cambridge', ..., 32.0, 35.0,\n",
       "        'www.harvard.edu'],\n",
       "       [2.0, 'Stanford University', 'Stanford', ..., 32.0, 35.0,\n",
       "        'www.stanford.edu'],\n",
       "       [3.0, 'Yale University', 'New Haven', ..., 32.0, 35.0,\n",
       "        'www.yale.edu'],\n",
       "       ...,\n",
       "       [648.0, 'Emory &amp; Henry College', 'Emory', ..., 19.0, 25.0,\n",
       "        'www.ehc.edu'],\n",
       "       [649.0, 'Wells College', 'Aurora', ..., nan, nan, 'www.wells.edu'],\n",
       "       [650.0, 'Catawba College', 'Salisbury', ..., 18.0, 23.0,\n",
       "        'www.catawba.edu']], dtype=object)"
      ]
     },
     "execution_count": 52,
     "metadata": {},
     "output_type": "execute_result"
    }
   ],
   "source": [
    "colleges.values"
   ]
  },
  {
   "cell_type": "code",
   "execution_count": 53,
   "id": "e4980cc7",
   "metadata": {},
   "outputs": [
    {
     "data": {
      "text/plain": [
       "(650, 17)"
      ]
     },
     "execution_count": 53,
     "metadata": {},
     "output_type": "execute_result"
    }
   ],
   "source": [
    "colleges.shape"
   ]
  },
  {
   "cell_type": "code",
   "execution_count": 57,
   "id": "2ba1b29b",
   "metadata": {},
   "outputs": [
    {
     "data": {
      "text/plain": [
       "0      1460.0\n",
       "1      1390.0\n",
       "2      1460.0\n",
       "3      1490.0\n",
       "4      1430.0\n",
       "        ...  \n",
       "645     910.0\n",
       "646     900.0\n",
       "647     988.0\n",
       "648       NaN\n",
       "649     930.0\n",
       "Name: SAT Lower, Length: 650, dtype: float32"
      ]
     },
     "execution_count": 57,
     "metadata": {},
     "output_type": "execute_result"
    }
   ],
   "source": [
    "colleges['SAT Lower'].astype('float32')"
   ]
  },
  {
   "cell_type": "code",
   "execution_count": 58,
   "id": "c738496c",
   "metadata": {},
   "outputs": [
    {
     "data": {
      "text/plain": [
       "Rank                                         1\n",
       "Name                        Harvard University\n",
       "City                                 Cambridge\n",
       "State                                       MA\n",
       "Public/Private                         Private\n",
       "Undergraduate Population                 13844\n",
       "Student Population                       31120\n",
       "Net Price                                14327\n",
       "Average Grant Aid                        49870\n",
       "Total Annual Cost                        69600\n",
       "Alumni Salary                           146800\n",
       "Acceptance Rate                              5\n",
       "SAT Lower                                 1460\n",
       "SAT Upper                                 1590\n",
       "ACT Lower                                   32\n",
       "ACT Upper                                   35\n",
       "Website                        www.harvard.edu\n",
       "Name: 0, dtype: object"
      ]
     },
     "execution_count": 58,
     "metadata": {},
     "output_type": "execute_result"
    }
   ],
   "source": [
    "colleges.loc[0]"
   ]
  },
  {
   "cell_type": "code",
   "execution_count": 59,
   "id": "887419d2",
   "metadata": {},
   "outputs": [
    {
     "data": {
      "text/plain": [
       "0                         Harvard University\n",
       "1                        Stanford University\n",
       "2                            Yale University\n",
       "3      Massachusetts Institute of Technology\n",
       "4                       Princeton University\n",
       "                       ...                  \n",
       "645              New Mexico State University\n",
       "646                 Indiana State University\n",
       "647                Emory &amp; Henry College\n",
       "648                            Wells College\n",
       "649                          Catawba College\n",
       "Name: Name, Length: 650, dtype: object"
      ]
     },
     "execution_count": 59,
     "metadata": {},
     "output_type": "execute_result"
    }
   ],
   "source": [
    "colleges.loc[:,'Name']"
   ]
  },
  {
   "cell_type": "code",
   "execution_count": 61,
   "id": "e2ce48a3",
   "metadata": {},
   "outputs": [
    {
     "data": {
      "text/html": [
       "<div>\n",
       "<style scoped>\n",
       "    .dataframe tbody tr th:only-of-type {\n",
       "        vertical-align: middle;\n",
       "    }\n",
       "\n",
       "    .dataframe tbody tr th {\n",
       "        vertical-align: top;\n",
       "    }\n",
       "\n",
       "    .dataframe thead th {\n",
       "        text-align: right;\n",
       "    }\n",
       "</style>\n",
       "<table border=\"1\" class=\"dataframe\">\n",
       "  <thead>\n",
       "    <tr style=\"text-align: right;\">\n",
       "      <th></th>\n",
       "      <th>Rank</th>\n",
       "      <th>Name</th>\n",
       "    </tr>\n",
       "  </thead>\n",
       "  <tbody>\n",
       "    <tr>\n",
       "      <th>0</th>\n",
       "      <td>1.0</td>\n",
       "      <td>Harvard University</td>\n",
       "    </tr>\n",
       "    <tr>\n",
       "      <th>1</th>\n",
       "      <td>2.0</td>\n",
       "      <td>Stanford University</td>\n",
       "    </tr>\n",
       "    <tr>\n",
       "      <th>2</th>\n",
       "      <td>3.0</td>\n",
       "      <td>Yale University</td>\n",
       "    </tr>\n",
       "    <tr>\n",
       "      <th>3</th>\n",
       "      <td>4.0</td>\n",
       "      <td>Massachusetts Institute of Technology</td>\n",
       "    </tr>\n",
       "    <tr>\n",
       "      <th>4</th>\n",
       "      <td>5.0</td>\n",
       "      <td>Princeton University</td>\n",
       "    </tr>\n",
       "    <tr>\n",
       "      <th>...</th>\n",
       "      <td>...</td>\n",
       "      <td>...</td>\n",
       "    </tr>\n",
       "    <tr>\n",
       "      <th>645</th>\n",
       "      <td>646.0</td>\n",
       "      <td>New Mexico State University</td>\n",
       "    </tr>\n",
       "    <tr>\n",
       "      <th>646</th>\n",
       "      <td>647.0</td>\n",
       "      <td>Indiana State University</td>\n",
       "    </tr>\n",
       "    <tr>\n",
       "      <th>647</th>\n",
       "      <td>648.0</td>\n",
       "      <td>Emory &amp;amp; Henry College</td>\n",
       "    </tr>\n",
       "    <tr>\n",
       "      <th>648</th>\n",
       "      <td>649.0</td>\n",
       "      <td>Wells College</td>\n",
       "    </tr>\n",
       "    <tr>\n",
       "      <th>649</th>\n",
       "      <td>650.0</td>\n",
       "      <td>Catawba College</td>\n",
       "    </tr>\n",
       "  </tbody>\n",
       "</table>\n",
       "<p>650 rows × 2 columns</p>\n",
       "</div>"
      ],
      "text/plain": [
       "      Rank                                   Name\n",
       "0      1.0                     Harvard University\n",
       "1      2.0                    Stanford University\n",
       "2      3.0                        Yale University\n",
       "3      4.0  Massachusetts Institute of Technology\n",
       "4      5.0                   Princeton University\n",
       "..     ...                                    ...\n",
       "645  646.0            New Mexico State University\n",
       "646  647.0               Indiana State University\n",
       "647  648.0              Emory &amp; Henry College\n",
       "648  649.0                          Wells College\n",
       "649  650.0                        Catawba College\n",
       "\n",
       "[650 rows x 2 columns]"
      ]
     },
     "execution_count": 61,
     "metadata": {},
     "output_type": "execute_result"
    }
   ],
   "source": [
    "colleges.loc[:,['Rank','Name']]"
   ]
  },
  {
   "cell_type": "code",
   "execution_count": 63,
   "id": "11dc06d4",
   "metadata": {},
   "outputs": [
    {
     "data": {
      "text/plain": [
       "Rank                     1\n",
       "Name    Harvard University\n",
       "City             Cambridge\n",
       "Name: 0, dtype: object"
      ]
     },
     "execution_count": 63,
     "metadata": {},
     "output_type": "execute_result"
    }
   ],
   "source": [
    "colleges.iloc[0,[0,1,2]]"
   ]
  },
  {
   "cell_type": "code",
   "execution_count": 65,
   "id": "21cc8fd3",
   "metadata": {},
   "outputs": [
    {
     "data": {
      "text/plain": [
       "Rank    3.0\n",
       "dtype: float64"
      ]
     },
     "execution_count": 65,
     "metadata": {},
     "output_type": "execute_result"
    }
   ],
   "source": [
    "colleges.iloc[:2,[0]].apply(lambda x: x.sum(),axis=0)"
   ]
  },
  {
   "cell_type": "code",
   "execution_count": 68,
   "id": "eadf3838",
   "metadata": {},
   "outputs": [
    {
     "data": {
      "text/plain": [
       "0    3050.0\n",
       "1    2930.0\n",
       "dtype: float64"
      ]
     },
     "execution_count": 68,
     "metadata": {},
     "output_type": "execute_result"
    }
   ],
   "source": [
    "colleges.loc[:1,['SAT Lower', 'SAT Upper']].apply(lambda x: x.sum(),axis=1)"
   ]
  },
  {
   "cell_type": "code",
   "execution_count": 71,
   "id": "f3b5386e",
   "metadata": {},
   "outputs": [],
   "source": [
    "df = pd.DataFrame({\"name\": ['Alfred', 'Batman', 'Catwoman'],\n",
    "                   \"toy\": [np.nan, 'Batmobile', 'Bullwhip'],\n",
    "                   \"born\": [pd.NaT, pd.Timestamp(\"1940-04-25\"),\n",
    "                            pd.NaT]})"
   ]
  },
  {
   "cell_type": "code",
   "execution_count": 72,
   "id": "65c86074",
   "metadata": {},
   "outputs": [
    {
     "data": {
      "text/html": [
       "<div>\n",
       "<style scoped>\n",
       "    .dataframe tbody tr th:only-of-type {\n",
       "        vertical-align: middle;\n",
       "    }\n",
       "\n",
       "    .dataframe tbody tr th {\n",
       "        vertical-align: top;\n",
       "    }\n",
       "\n",
       "    .dataframe thead th {\n",
       "        text-align: right;\n",
       "    }\n",
       "</style>\n",
       "<table border=\"1\" class=\"dataframe\">\n",
       "  <thead>\n",
       "    <tr style=\"text-align: right;\">\n",
       "      <th></th>\n",
       "      <th>name</th>\n",
       "      <th>toy</th>\n",
       "      <th>born</th>\n",
       "    </tr>\n",
       "  </thead>\n",
       "  <tbody>\n",
       "    <tr>\n",
       "      <th>0</th>\n",
       "      <td>Alfred</td>\n",
       "      <td>NaN</td>\n",
       "      <td>NaT</td>\n",
       "    </tr>\n",
       "    <tr>\n",
       "      <th>1</th>\n",
       "      <td>Batman</td>\n",
       "      <td>Batmobile</td>\n",
       "      <td>1940-04-25</td>\n",
       "    </tr>\n",
       "    <tr>\n",
       "      <th>2</th>\n",
       "      <td>Catwoman</td>\n",
       "      <td>Bullwhip</td>\n",
       "      <td>NaT</td>\n",
       "    </tr>\n",
       "  </tbody>\n",
       "</table>\n",
       "</div>"
      ],
      "text/plain": [
       "       name        toy       born\n",
       "0    Alfred        NaN        NaT\n",
       "1    Batman  Batmobile 1940-04-25\n",
       "2  Catwoman   Bullwhip        NaT"
      ]
     },
     "execution_count": 72,
     "metadata": {},
     "output_type": "execute_result"
    }
   ],
   "source": [
    "df"
   ]
  },
  {
   "cell_type": "code",
   "execution_count": 73,
   "id": "65fe3e0e",
   "metadata": {},
   "outputs": [
    {
     "data": {
      "text/html": [
       "<div>\n",
       "<style scoped>\n",
       "    .dataframe tbody tr th:only-of-type {\n",
       "        vertical-align: middle;\n",
       "    }\n",
       "\n",
       "    .dataframe tbody tr th {\n",
       "        vertical-align: top;\n",
       "    }\n",
       "\n",
       "    .dataframe thead th {\n",
       "        text-align: right;\n",
       "    }\n",
       "</style>\n",
       "<table border=\"1\" class=\"dataframe\">\n",
       "  <thead>\n",
       "    <tr style=\"text-align: right;\">\n",
       "      <th></th>\n",
       "      <th>name</th>\n",
       "      <th>toy</th>\n",
       "      <th>born</th>\n",
       "    </tr>\n",
       "  </thead>\n",
       "  <tbody>\n",
       "    <tr>\n",
       "      <th>1</th>\n",
       "      <td>Batman</td>\n",
       "      <td>Batmobile</td>\n",
       "      <td>1940-04-25</td>\n",
       "    </tr>\n",
       "  </tbody>\n",
       "</table>\n",
       "</div>"
      ],
      "text/plain": [
       "     name        toy       born\n",
       "1  Batman  Batmobile 1940-04-25"
      ]
     },
     "execution_count": 73,
     "metadata": {},
     "output_type": "execute_result"
    }
   ],
   "source": [
    "df.dropna()"
   ]
  },
  {
   "cell_type": "code",
   "execution_count": 74,
   "id": "6b2ef2d1",
   "metadata": {},
   "outputs": [],
   "source": [
    "\n",
    "df = pd.DataFrame(\n",
    "     [\n",
    "         (\"bird\", \"Falconiformes\", 389.0),\n",
    "         (\"bird\", \"Psittaciformes\", 24.0),\n",
    "            (\"mammal\", \"Carnivora\", 80.2),\n",
    "            (\"mammal\", \"Primates\", np.nan),\n",
    "            (\"mammal\", \"Carnivora\", 58),\n",
    "        ],\n",
    "        index=[\"falcon\", \"parrot\", \"lion\", \"monkey\", \"leopard\"],\n",
    "        columns=(\"class\", \"order\", \"max_speed\"),\n",
    "    )\n"
   ]
  },
  {
   "cell_type": "code",
   "execution_count": 75,
   "id": "0b007302",
   "metadata": {},
   "outputs": [
    {
     "data": {
      "text/html": [
       "<div>\n",
       "<style scoped>\n",
       "    .dataframe tbody tr th:only-of-type {\n",
       "        vertical-align: middle;\n",
       "    }\n",
       "\n",
       "    .dataframe tbody tr th {\n",
       "        vertical-align: top;\n",
       "    }\n",
       "\n",
       "    .dataframe thead th {\n",
       "        text-align: right;\n",
       "    }\n",
       "</style>\n",
       "<table border=\"1\" class=\"dataframe\">\n",
       "  <thead>\n",
       "    <tr style=\"text-align: right;\">\n",
       "      <th></th>\n",
       "      <th>class</th>\n",
       "      <th>order</th>\n",
       "      <th>max_speed</th>\n",
       "    </tr>\n",
       "  </thead>\n",
       "  <tbody>\n",
       "    <tr>\n",
       "      <th>falcon</th>\n",
       "      <td>bird</td>\n",
       "      <td>Falconiformes</td>\n",
       "      <td>389.0</td>\n",
       "    </tr>\n",
       "    <tr>\n",
       "      <th>parrot</th>\n",
       "      <td>bird</td>\n",
       "      <td>Psittaciformes</td>\n",
       "      <td>24.0</td>\n",
       "    </tr>\n",
       "    <tr>\n",
       "      <th>lion</th>\n",
       "      <td>mammal</td>\n",
       "      <td>Carnivora</td>\n",
       "      <td>80.2</td>\n",
       "    </tr>\n",
       "    <tr>\n",
       "      <th>monkey</th>\n",
       "      <td>mammal</td>\n",
       "      <td>Primates</td>\n",
       "      <td>NaN</td>\n",
       "    </tr>\n",
       "    <tr>\n",
       "      <th>leopard</th>\n",
       "      <td>mammal</td>\n",
       "      <td>Carnivora</td>\n",
       "      <td>58.0</td>\n",
       "    </tr>\n",
       "  </tbody>\n",
       "</table>\n",
       "</div>"
      ],
      "text/plain": [
       "          class           order  max_speed\n",
       "falcon     bird   Falconiformes      389.0\n",
       "parrot     bird  Psittaciformes       24.0\n",
       "lion     mammal       Carnivora       80.2\n",
       "monkey   mammal        Primates        NaN\n",
       "leopard  mammal       Carnivora       58.0"
      ]
     },
     "execution_count": 75,
     "metadata": {},
     "output_type": "execute_result"
    }
   ],
   "source": [
    "df"
   ]
  },
  {
   "cell_type": "code",
   "execution_count": 79,
   "id": "5642406c",
   "metadata": {},
   "outputs": [
    {
     "data": {
      "text/plain": [
       "falcon       bird\n",
       "parrot       bird\n",
       "lion       mammal\n",
       "monkey     mammal\n",
       "leopard    mammal\n",
       "Name: class, dtype: object"
      ]
     },
     "execution_count": 79,
     "metadata": {},
     "output_type": "execute_result"
    }
   ],
   "source": [
    "df['class']"
   ]
  },
  {
   "cell_type": "code",
   "execution_count": 80,
   "id": "d35c883a",
   "metadata": {},
   "outputs": [
    {
     "data": {
      "text/plain": [
       "array([['bird', 'Falconiformes', 389.0],\n",
       "       ['bird', 'Psittaciformes', 24.0],\n",
       "       ['mammal', 'Carnivora', 80.2],\n",
       "       ['mammal', 'Primates', nan],\n",
       "       ['mammal', 'Carnivora', 58.0]], dtype=object)"
      ]
     },
     "execution_count": 80,
     "metadata": {},
     "output_type": "execute_result"
    }
   ],
   "source": [
    "df.values"
   ]
  },
  {
   "cell_type": "code",
   "execution_count": 82,
   "id": "aa242f2b",
   "metadata": {},
   "outputs": [
    {
     "data": {
      "text/plain": [
       "class                 bird\n",
       "order        Falconiformes\n",
       "max_speed              389\n",
       "Name: falcon, dtype: object"
      ]
     },
     "execution_count": 82,
     "metadata": {},
     "output_type": "execute_result"
    }
   ],
   "source": [
    "df.loc[\"falcon\"]"
   ]
  },
  {
   "cell_type": "code",
   "execution_count": 83,
   "id": "155c402a",
   "metadata": {},
   "outputs": [
    {
     "data": {
      "text/plain": [
       "'bird'"
      ]
     },
     "execution_count": 83,
     "metadata": {},
     "output_type": "execute_result"
    }
   ],
   "source": [
    "df[\"class\"][\"falcon\"]"
   ]
  },
  {
   "cell_type": "code",
   "execution_count": 84,
   "id": "a052baee",
   "metadata": {},
   "outputs": [],
   "source": [
    "grouped = df.groupby(\"class\")"
   ]
  },
  {
   "cell_type": "code",
   "execution_count": 91,
   "id": "5bb4445a",
   "metadata": {},
   "outputs": [
    {
     "name": "stdout",
     "output_type": "stream",
     "text": [
      "       class           order  max_speed\n",
      "falcon  bird   Falconiformes      389.0\n",
      "parrot  bird  Psittaciformes       24.0\n",
      "          class      order  max_speed\n",
      "lion     mammal  Carnivora       80.2\n",
      "monkey   mammal   Primates        NaN\n",
      "leopard  mammal  Carnivora       58.0\n"
     ]
    }
   ],
   "source": [
    "\n",
    "for name, group in grouped:\n",
    "    #print(name)\n",
    "    print(group)"
   ]
  },
  {
   "cell_type": "code",
   "execution_count": 92,
   "id": "8ba46021",
   "metadata": {},
   "outputs": [
    {
     "data": {
      "text/plain": [
       "class\n",
       "bird      206.5\n",
       "mammal     69.1\n",
       "Name: max_speed, dtype: float64"
      ]
     },
     "execution_count": 92,
     "metadata": {},
     "output_type": "execute_result"
    }
   ],
   "source": [
    "grouped['max_speed'].mean()"
   ]
  },
  {
   "cell_type": "code",
   "execution_count": null,
   "id": "6a25f2c2",
   "metadata": {},
   "outputs": [],
   "source": []
  }
 ],
 "metadata": {
  "kernelspec": {
   "display_name": "Python 3",
   "language": "python",
   "name": "python3"
  },
  "language_info": {
   "codemirror_mode": {
    "name": "ipython",
    "version": 3
   },
   "file_extension": ".py",
   "mimetype": "text/x-python",
   "name": "python",
   "nbconvert_exporter": "python",
   "pygments_lexer": "ipython3",
   "version": "3.6.9"
  }
 },
 "nbformat": 4,
 "nbformat_minor": 5
}
