{
 "cells": [
  {
   "cell_type": "code",
   "execution_count": 1,
   "id": "67c302f9",
   "metadata": {},
   "outputs": [
    {
     "name": "stdout",
     "output_type": "stream",
     "text": [
      "Requirement already satisfied: gym[all] in /usr/local/lib/python3.6/dist-packages\n",
      "Requirement already satisfied: numpy>=1.18.0 in /usr/local/lib/python3.6/dist-packages (from gym[all])\n",
      "Requirement already satisfied: cloudpickle>=1.2.0 in /usr/local/lib/python3.6/dist-packages (from gym[all])\n",
      "Requirement already satisfied: importlib-metadata>=4.8.1; python_version < \"3.8\" in /usr/local/lib/python3.6/dist-packages (from gym[all])\n",
      "Collecting mujoco-py<2.0,>=1.50; extra == \"all\" (from gym[all])\n",
      "  Using cached https://files.pythonhosted.org/packages/cf/8c/64e0630b3d450244feef0688d90eab2448631e40ba6bdbd90a70b84898e7/mujoco-py-1.50.1.68.tar.gz\n",
      "Collecting box2d-py==2.3.5; extra == \"all\" (from gym[all])\n",
      "  Using cached https://files.pythonhosted.org/packages/16/a0/040870c99d16231bb2001e70ab7fc40d05b297fd4e03448cbad56657c75f/box2d_py-2.3.5-cp36-cp36m-manylinux1_x86_64.whl\n",
      "Collecting opencv-python>=3.; extra == \"all\" (from gym[all])\n",
      "  Using cached https://files.pythonhosted.org/packages/c4/e2/27a153e27b98410cf5a871096a8baf98dd642e6685d3ebe7abd9edc8d51a/opencv-python-4.5.5.62.tar.gz\n",
      "    Complete output from command python setup.py egg_info:\n",
      "    Traceback (most recent call last):\n",
      "      File \"<string>\", line 1, in <module>\n",
      "      File \"/tmp/pip-build-qqc7txxz/opencv-python/setup.py\", line 10, in <module>\n",
      "        import skbuild\n",
      "    ModuleNotFoundError: No module named 'skbuild'\n",
      "    \n",
      "    ----------------------------------------\n",
      "\u001b[31mCommand \"python setup.py egg_info\" failed with error code 1 in /tmp/pip-build-qqc7txxz/opencv-python/\u001b[0m\n",
      "Will not apply HSTS. The HSTS database must be a regular and non-world-writable file.\n",
      "ERROR: could not open HSTS store at '/home/user/.wget-hsts'. HSTS will be disabled.\n",
      "--2022-01-28 01:14:15--  https://github.com/orcax/atari_roms/blob/master/space_invaders.bin?raw=true\n",
      "Resolving github.com (github.com)... 140.82.114.4\n",
      "Connecting to github.com (github.com)|140.82.114.4|:443... connected.\n",
      "HTTP request sent, awaiting response... 302 Found\n",
      "Location: https://github.com/orcax/atari_roms/raw/master/space_invaders.bin [following]\n",
      "--2022-01-28 01:14:15--  https://github.com/orcax/atari_roms/raw/master/space_invaders.bin\n",
      "Reusing existing connection to github.com:443.\n",
      "HTTP request sent, awaiting response... 302 Found\n",
      "Location: https://raw.githubusercontent.com/orcax/atari_roms/master/space_invaders.bin [following]\n",
      "--2022-01-28 01:14:15--  https://raw.githubusercontent.com/orcax/atari_roms/master/space_invaders.bin\n",
      "Resolving raw.githubusercontent.com (raw.githubusercontent.com)... 185.199.110.133, 185.199.111.133, 185.199.109.133, ...\n",
      "Connecting to raw.githubusercontent.com (raw.githubusercontent.com)|185.199.110.133|:443... connected.\n",
      "HTTP request sent, awaiting response... 200 OK\n",
      "Length: 4096 (4.0K) [application/octet-stream]\n",
      "Saving to: ‘space_invaders.bin’\n",
      "\n",
      "space_invaders.bin  100%[===================>]   4.00K  --.-KB/s    in 0s      \n",
      "\n",
      "2022-01-28 01:14:15 (47.9 MB/s) - ‘space_invaders.bin’ saved [4096/4096]\n",
      "\n",
      "/usr/bin/python3: Error while finding module specification for 'atari_py.import_roms' (ModuleNotFoundError: No module named 'atari_py')\n"
     ]
    }
   ],
   "source": [
    "!pip3 install gym[all]\n",
    "!wget -O space_invaders.bin https://github.com/orcax/atari_roms/blob/master/space_invaders.bin?raw=true\n",
    "!pwd | xargs python3 -m atari_py.import_roms \n",
    "import gym\n",
    "import matplotlib.pyplot as plt\n",
    "from IPython.display import display\n",
    "from PIL import Image as Image\n",
    "import time"
   ]
  },
  {
   "cell_type": "markdown",
   "id": "4ff32c4b",
   "metadata": {},
   "source": [
    "TODO :\n",
    "find an environment\n",
    "make an agent for a game"
   ]
  },
  {
   "cell_type": "code",
   "execution_count": 2,
   "id": "c87fd091",
   "metadata": {},
   "outputs": [
    {
     "name": "stdout",
     "output_type": "stream",
     "text": [
      "Requirement already satisfied: pyglet in /home/user/.local/lib/python3.6/site-packages\n",
      "Note: you may need to restart the kernel to use updated packages.\n"
     ]
    }
   ],
   "source": [
    "pip install pyglet --user"
   ]
  },
  {
   "cell_type": "markdown",
   "id": "15aba6ef",
   "metadata": {},
   "source": [
    "https://reinforcement-learning4.fun/2019/06/16/gym-tutorial-frozen-lake/"
   ]
  },
  {
   "cell_type": "code",
   "execution_count": 5,
   "id": "f6f8c736",
   "metadata": {},
   "outputs": [
    {
     "name": "stdout",
     "output_type": "stream",
     "text": [
      "\n",
      "\u001b[41mS\u001b[0mFFF\n",
      "FHFH\n",
      "FFFH\n",
      "HFFG\n"
     ]
    }
   ],
   "source": [
    "env = gym.make('FrozenLake-v1')\n",
    "env.reset()\n",
    "env.render()"
   ]
  },
  {
   "cell_type": "code",
   "execution_count": 6,
   "id": "944549c1",
   "metadata": {},
   "outputs": [
    {
     "name": "stdout",
     "output_type": "stream",
     "text": [
      "Action space:  Discrete(4)\n",
      "Observation space:  Discrete(16)\n"
     ]
    }
   ],
   "source": [
    "print(\"Action space: \", env.action_space)\n",
    "print(\"Observation space: \", env.observation_space)"
   ]
  },
  {
   "cell_type": "code",
   "execution_count": 8,
   "id": "3fd79b02",
   "metadata": {},
   "outputs": [
    {
     "name": "stdout",
     "output_type": "stream",
     "text": [
      "\n",
      "\u001b[41mS\u001b[0mFFF\n",
      "FHFH\n",
      "FFFH\n",
      "HFFG\n",
      "  (Up)\n",
      "S\u001b[41mF\u001b[0mFF\n",
      "FHFH\n",
      "FFFH\n",
      "HFFG\n",
      "  (Left)\n",
      "\u001b[41mS\u001b[0mFFF\n",
      "FHFH\n",
      "FFFH\n",
      "HFFG\n",
      "  (Left)\n",
      "SFFF\n",
      "\u001b[41mF\u001b[0mHFH\n",
      "FFFH\n",
      "HFFG\n",
      "  (Up)\n",
      "SFFF\n",
      "F\u001b[41mH\u001b[0mFH\n",
      "FFFH\n",
      "HFFG\n"
     ]
    }
   ],
   "source": [
    "import gym\n",
    " \n",
    "MAX_ITERATIONS = 10\n",
    " \n",
    "env = gym.make(\"FrozenLake-v1\")\n",
    "env.reset()\n",
    "env.render()\n",
    "for i in range(MAX_ITERATIONS):\n",
    "    random_action = env.action_space.sample()\n",
    "    new_state, reward, done, info = env.step(\n",
    "       random_action)\n",
    "    env.render()\n",
    "    if done:\n",
    "        break"
   ]
  },
  {
   "cell_type": "code",
   "execution_count": 11,
   "id": "906aa84b",
   "metadata": {},
   "outputs": [
    {
     "name": "stdout",
     "output_type": "stream",
     "text": [
      "---- winning sequence ------ \n",
      "['Right', 'Right', 'Down', 'Down', 'Down', 'Right']\n",
      "\n",
      "\u001b[41mS\u001b[0mFFF\n",
      "FHFH\n",
      "FFFH\n",
      "HFFG\n",
      "\n",
      "  (Right)\n",
      "SFFF\n",
      "\u001b[41mF\u001b[0mHFH\n",
      "FFFH\n",
      "HFFG\n",
      "Reward: 0.00\n",
      "{'prob': 0.3333333333333333}\n",
      "\n",
      "  (Right)\n",
      "SFFF\n",
      "F\u001b[41mH\u001b[0mFH\n",
      "FFFH\n",
      "HFFG\n",
      "Reward: 0.00\n",
      "{'prob': 0.3333333333333333}\n",
      "\n"
     ]
    }
   ],
   "source": [
    "import gym\n",
    " \n",
    "actions = {\n",
    "    'Left': 0,\n",
    "    'Down': 1,\n",
    "    'Right': 2, \n",
    "    'Up': 3\n",
    "}\n",
    " \n",
    "print('---- winning sequence ------ ')\n",
    "winning_sequence = (2 * ['Right']) + (3 * ['Down'])+ ['Right']\n",
    "print(winning_sequence)\n",
    " \n",
    "env = gym.make(\"FrozenLake-v1\")\n",
    "env.reset()\n",
    "env.render()\n",
    " \n",
    "for a in winning_sequence:\n",
    "    new_state, reward, done, info = env.step(actions[a])\n",
    "    print()\n",
    "    env.render()\n",
    "    print(\"Reward: {:.2f}\".format(reward))\n",
    "    print(info)\n",
    "    if done:\n",
    "        break  \n",
    " \n",
    "print()"
   ]
  },
  {
   "cell_type": "markdown",
   "id": "037d6fcf",
   "metadata": {},
   "source": [
    "# TODO\n",
    "learn about deep q learning\n",
    "train the agent"
   ]
  },
  {
   "cell_type": "markdown",
   "id": "e8de10b7",
   "metadata": {},
   "source": [
    "ef2f29025071ee6e64f85be8472b42bc\n",
    "\n",
    "\n",
    "ssh cassidy@om.ktbyte.com -p 62723 -L 8890:localhost:8890 jupyter-notebook --no-browser --port 8890\n"
   ]
  },
  {
   "cell_type": "code",
   "execution_count": null,
   "id": "b8724ff0",
   "metadata": {},
   "outputs": [],
   "source": [
    "ssh cassidy@om.ktbyte.com -p 62723 -L 7480:localhost:7480 jupyter-notebook --no-browser --port 7480\n"
   ]
  }
 ],
 "metadata": {
  "kernelspec": {
   "display_name": "Python 3",
   "language": "python",
   "name": "python3"
  },
  "language_info": {
   "codemirror_mode": {
    "name": "ipython",
    "version": 3
   },
   "file_extension": ".py",
   "mimetype": "text/x-python",
   "name": "python",
   "nbconvert_exporter": "python",
   "pygments_lexer": "ipython3",
   "version": "3.6.9"
  }
 },
 "nbformat": 4,
 "nbformat_minor": 5
}
