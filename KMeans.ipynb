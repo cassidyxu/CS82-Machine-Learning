{
 "cells": [
  {
   "cell_type": "code",
   "execution_count": 1,
   "id": "f6f699ee",
   "metadata": {},
   "outputs": [],
   "source": [
    "import numpy as np\n",
    "import matplotlib.pyplot as plt\n",
    "\n",
    "from sklearn.cluster import KMeans\n",
    "from sklearn.datasets import make_blobs"
   ]
  },
  {
   "cell_type": "code",
   "execution_count": 2,
   "id": "59dfbbd7",
   "metadata": {},
   "outputs": [
    {
     "data": {
      "text/plain": [
       "<Figure size 864x864 with 0 Axes>"
      ]
     },
     "execution_count": 2,
     "metadata": {},
     "output_type": "execute_result"
    },
    {
     "data": {
      "text/plain": [
       "<Figure size 864x864 with 0 Axes>"
      ]
     },
     "metadata": {},
     "output_type": "display_data"
    }
   ],
   "source": [
    "plt.figure(figsize=(12, 12))"
   ]
  },
  {
   "cell_type": "code",
   "execution_count": 3,
   "id": "c7d26d9c",
   "metadata": {},
   "outputs": [],
   "source": [
    "n_samples = 1500\n",
    "random_state = 170\n",
    "X, y = make_blobs(n_samples=n_samples, random_state=random_state)"
   ]
  },
  {
   "cell_type": "code",
   "execution_count": 8,
   "id": "195772bc",
   "metadata": {},
   "outputs": [
    {
     "data": {
      "text/plain": [
       "array([[-5.19811282e+00,  6.41869316e-01],\n",
       "       [-5.75229538e+00,  4.18627111e-01],\n",
       "       [-1.08448984e+01, -7.55352273e+00],\n",
       "       ...,\n",
       "       [ 1.36105255e+00, -9.07491863e-01],\n",
       "       [-3.54141108e-01,  7.12241630e-01],\n",
       "       [ 1.88577252e+00,  1.41185693e-03]])"
      ]
     },
     "execution_count": 8,
     "metadata": {},
     "output_type": "execute_result"
    }
   ],
   "source": [
    "X"
   ]
  },
  {
   "cell_type": "code",
   "execution_count": 9,
   "id": "aa310ac7",
   "metadata": {},
   "outputs": [
    {
     "data": {
      "text/plain": [
       "(1500, 2)"
      ]
     },
     "execution_count": 9,
     "metadata": {},
     "output_type": "execute_result"
    }
   ],
   "source": [
    "X.shape"
   ]
  },
  {
   "cell_type": "code",
   "execution_count": 10,
   "id": "fa1f43f4",
   "metadata": {},
   "outputs": [
    {
     "data": {
      "text/plain": [
       "array([1, 1, 0, ..., 2, 2, 2])"
      ]
     },
     "execution_count": 10,
     "metadata": {},
     "output_type": "execute_result"
    }
   ],
   "source": [
    "y"
   ]
  },
  {
   "cell_type": "code",
   "execution_count": 11,
   "id": "baf0a3ae",
   "metadata": {},
   "outputs": [
    {
     "data": {
      "text/plain": [
       "(1500,)"
      ]
     },
     "execution_count": 11,
     "metadata": {},
     "output_type": "execute_result"
    }
   ],
   "source": [
    "y.shape"
   ]
  },
  {
   "cell_type": "code",
   "execution_count": 12,
   "id": "1bb4a115",
   "metadata": {},
   "outputs": [
    {
     "data": {
      "text/plain": [
       "Text(0.5, 1.0, 'Incorrect Number of Blobs')"
      ]
     },
     "execution_count": 12,
     "metadata": {},
     "output_type": "execute_result"
    },
    {
     "data": {
      "image/png": "[encoded data removed]",
      "text/plain": [
       "<Figure size 432x288 with 1 Axes>"
      ]
     },
     "metadata": {},
     "output_type": "display_data"
    }
   ],
   "source": [
    "# Incorrect number of clusters\n",
    "y_pred = KMeans(n_clusters=2, random_state=random_state).fit_predict(X)\n",
    "\n",
    "plt.subplot(221)\n",
    "plt.scatter(X[:, 0], X[:, 1], c=y_pred)\n",
    "plt.title(\"Incorrect Number of Blobs\")"
   ]
  },
  {
   "cell_type": "code",
   "execution_count": 37,
   "id": "82fa7ded",
   "metadata": {},
   "outputs": [
    {
     "data": {
      "text/plain": [
       "array([[-3.30878044,  3.10169384],\n",
       "       [ 1.02640439, -0.91883122],\n",
       "       [-2.62069638,  0.8287426 ]])"
      ]
     },
     "execution_count": 37,
     "metadata": {},
     "output_type": "execute_result"
    },
    {
     "data": {
      "image/png": "[encoded data removed]",
      "text/plain": [
       "<Figure size 432x288 with 1 Axes>"
      ]
     },
     "metadata": {},
     "output_type": "display_data"
    }
   ],
   "source": [
    "# Anisotropicly distributed data\n",
    "transformation = [[0.60834549, -0.63667341], [-0.40887718, 0.85253229]]\n",
    "X_aniso = np.dot(X, transformation)\n",
    "y_pred = KMeans(n_clusters=3, random_state=random_state).fit_predict(X_aniso)\n",
    "\n",
    "plt.subplot(222)\n",
    "plt.scatter(X_aniso[:, 0], X_aniso[:, 1], c=y_pred)\n",
    "plt.title(\"Anisotropicly Distributed Blobs\")\n",
    "\n",
    "KMeans(n_clusters=3,random_state=random_state).fit(X_aniso).cluster_centers_"
   ]
  },
  {
   "cell_type": "code",
   "execution_count": 15,
   "id": "867b50a3",
   "metadata": {},
   "outputs": [
    {
     "data": {
      "text/plain": [
       "array([[-3.42469421,  3.85671453],\n",
       "       [-3.67055002,  4.01922664],\n",
       "       [-3.50898194,  0.4650364 ],\n",
       "       ...,\n",
       "       [ 1.19904289, -1.64021208],\n",
       "       [-0.5066595 ,  0.83268121],\n",
       "       [ 1.14662393, -1.19941757]])"
      ]
     },
     "execution_count": 15,
     "metadata": {},
     "output_type": "execute_result"
    }
   ],
   "source": [
    "X_aniso"
   ]
  },
  {
   "cell_type": "code",
   "execution_count": 18,
   "id": "b62e54af",
   "metadata": {},
   "outputs": [
    {
     "data": {
      "text/plain": [
       "(1500, 2)"
      ]
     },
     "execution_count": 18,
     "metadata": {},
     "output_type": "execute_result"
    }
   ],
   "source": [
    "X_aniso.shape"
   ]
  },
  {
   "cell_type": "code",
   "execution_count": 36,
   "id": "971a5dd7",
   "metadata": {},
   "outputs": [
    {
     "data": {
      "text/plain": [
       "array([[ 1.6400471 ,  0.44241664],\n",
       "       [-8.87177269, -5.36630437],\n",
       "       [-4.90914469,  0.11313436]])"
      ]
     },
     "execution_count": 36,
     "metadata": {},
     "output_type": "execute_result"
    },
    {
     "data": {
      "image/png": "[encoded data removed]",
      "text/plain": [
       "<Figure size 432x288 with 1 Axes>"
      ]
     },
     "metadata": {},
     "output_type": "display_data"
    }
   ],
   "source": [
    "# Different variance\n",
    "X_varied, y_varied = make_blobs(n_samples=n_samples,\n",
    "                                cluster_std=[1.0, 2.5, 0.5],\n",
    "                                random_state=random_state)\n",
    "y_pred = KMeans(n_clusters=3, random_state=random_state).fit_predict(X_varied)\n",
    "\n",
    "plt.subplot(223)\n",
    "plt.scatter(X_varied[:, 0], X_varied[:, 1], c=y_pred)\n",
    "plt.title(\"Unequal Variance\")\n",
    "\n",
    "KMeans(n_clusters=3,random_state=random_state).fit(X_varied).cluster_centers_"
   ]
  },
  {
   "cell_type": "code",
   "execution_count": 20,
   "id": "800f1fa4",
   "metadata": {},
   "outputs": [
    {
     "data": {
      "text/plain": [
       "array([[ -6.11119721,   1.47153062],\n",
       "       [ -7.49665361,   0.9134251 ],\n",
       "       [-10.84489837,  -7.55352273],\n",
       "       ...,\n",
       "       [  1.64990343,  -0.20117787],\n",
       "       [  0.79230661,   0.60868888],\n",
       "       [  1.91226342,   0.25327399]])"
      ]
     },
     "execution_count": 20,
     "metadata": {},
     "output_type": "execute_result"
    }
   ],
   "source": [
    "X_varied"
   ]
  },
  {
   "cell_type": "code",
   "execution_count": 35,
   "id": "9f12cadd",
   "metadata": {},
   "outputs": [
    {
     "data": {
      "image/png": "[encoded data removed]",
      "text/plain": [
       "<Figure size 432x288 with 1 Axes>"
      ]
     },
     "metadata": {},
     "output_type": "display_data"
    },
    {
     "data": {
      "text/plain": [
       "array([[-8.94137566, -5.48137132],\n",
       "       [-4.5240232 ,  0.06235043],\n",
       "       [ 2.3329947 ,  0.37681004]])"
      ]
     },
     "execution_count": 35,
     "metadata": {},
     "output_type": "execute_result"
    }
   ],
   "source": [
    "# Unevenly sized blobs\n",
    "X_filtered = np.vstack((X[y == 0][:500], X[y == 1][:100], X[y == 2][:10]))\n",
    "y_pred = KMeans(n_clusters=3,\n",
    "                random_state=random_state).fit_predict(X_filtered)\n",
    "\n",
    "plt.subplot(224)\n",
    "plt.scatter(X_filtered[:, 0], X_filtered[:, 1], c=y_pred)\n",
    "plt.title(\"Unevenly Sized Blobs\")\n",
    "\n",
    "plt.show()\n",
    "KMeans(n_clusters=3,random_state=random_state).fit(X_filtered).cluster_centers_"
   ]
  },
  {
   "cell_type": "code",
   "execution_count": 25,
   "id": "5c0617e1",
   "metadata": {},
   "outputs": [
    {
     "data": {
      "text/plain": [
       "(610, 2)"
      ]
     },
     "execution_count": 25,
     "metadata": {},
     "output_type": "execute_result"
    }
   ],
   "source": [
    "X_filtered.shape"
   ]
  },
  {
   "cell_type": "code",
   "execution_count": 26,
   "id": "ba456aad",
   "metadata": {},
   "outputs": [
    {
     "data": {
      "text/plain": [
       "(1500, 2)"
      ]
     },
     "execution_count": 26,
     "metadata": {},
     "output_type": "execute_result"
    }
   ],
   "source": [
    "X_varied.shape"
   ]
  },
  {
   "cell_type": "markdown",
   "id": "5710b3f0",
   "metadata": {},
   "source": [
    "#TODO\n",
    "\n",
    "find k means dataset\n",
    "start learning about PCA \n",
    "feature preprocessing"
   ]
  },
  {
   "cell_type": "code",
   "execution_count": 37,
   "id": "b7f7acad",
   "metadata": {},
   "outputs": [],
   "source": [
    "#https://stackabuse.com/k-means-clustering-with-scikit-learn/\n",
    "#https://www.kaggle.com/leonardopena/top50spotify2019"
   ]
  },
  {
   "cell_type": "code",
   "execution_count": 13,
   "id": "e3166d23",
   "metadata": {},
   "outputs": [],
   "source": [
    "import pandas as pd\n",
    "import numpy as np"
   ]
  },
  {
   "cell_type": "code",
   "execution_count": 19,
   "id": "84285402",
   "metadata": {},
   "outputs": [],
   "source": [
    "data=pd.read_csv(\"top50.csv\",encoding='ISO-8859-1')\n",
    "data=np.asarray(data)"
   ]
  },
  {
   "cell_type": "code",
   "execution_count": 20,
   "id": "bba978bd",
   "metadata": {},
   "outputs": [
    {
     "data": {
      "text/plain": [
       "array([[1, 'Señorita', 'Shawn Mendes', 'canadian pop', 117, 55, 76, -6,\n",
       "        8, 75, 191, 4, 3, 79],\n",
       "       [2, 'China', 'Anuel AA', 'reggaeton flow', 105, 81, 79, -4, 8, 61,\n",
       "        302, 8, 9, 92],\n",
       "       [3, 'boyfriend (with Social House)', 'Ariana Grande', 'dance pop',\n",
       "        190, 80, 40, -4, 16, 70, 186, 12, 46, 85],\n",
       "       [4, 'Beautiful People (feat. Khalid)', 'Ed Sheeran', 'pop', 93,\n",
       "        65, 64, -8, 8, 55, 198, 12, 19, 86],\n",
       "       [5, 'Goodbyes (Feat. Young Thug)', 'Post Malone', 'dfw rap', 150,\n",
       "        65, 58, -4, 11, 18, 175, 45, 7, 94],\n",
       "       [6, \"I Don't Care (with Justin Bieber)\", 'Ed Sheeran', 'pop', 102,\n",
       "        68, 80, -5, 9, 84, 220, 9, 4, 84],\n",
       "       [7, 'Ransom', 'Lil Tecca', 'trap music', 180, 64, 75, -6, 7, 23,\n",
       "        131, 2, 29, 92],\n",
       "       [8, 'How Do You Sleep?', 'Sam Smith', 'pop', 111, 68, 48, -5, 8,\n",
       "        35, 202, 15, 9, 90],\n",
       "       [9, 'Old Town Road - Remix', 'Lil Nas X', 'country rap', 136, 62,\n",
       "        88, -6, 11, 64, 157, 5, 10, 87],\n",
       "       [10, 'bad guy', 'Billie Eilish', 'electropop', 135, 43, 70, -11,\n",
       "        10, 56, 194, 33, 38, 95],\n",
       "       [11, 'Callaita', 'Bad Bunny', 'reggaeton', 176, 62, 61, -5, 24,\n",
       "        24, 251, 60, 31, 93],\n",
       "       [12, 'Loco Contigo (feat. J. Balvin & Tyga)', 'DJ Snake',\n",
       "        'dance pop', 96, 71, 82, -4, 15, 38, 185, 28, 7, 86],\n",
       "       [13, 'Someone You Loved', 'Lewis Capaldi', 'pop', 110, 41, 50, -6,\n",
       "        11, 45, 182, 75, 3, 88],\n",
       "       [14, 'Otro Trago - Remix', 'Sech', 'panamanian pop', 176, 79, 73,\n",
       "        -2, 6, 76, 288, 7, 20, 87],\n",
       "       [15, 'Money In The Grave (Drake ft. Rick Ross)', 'Drake',\n",
       "        'canadian hip hop', 101, 50, 83, -4, 12, 10, 205, 10, 5, 92],\n",
       "       [16, 'No Guidance (feat. Drake)', 'Chris Brown', 'dance pop', 93,\n",
       "        45, 70, -7, 16, 14, 261, 12, 15, 82],\n",
       "       [17, 'LA CANCIÓN', 'J Balvin', 'latin', 176, 65, 75, -6, 11, 43,\n",
       "        243, 15, 32, 90],\n",
       "       [18, 'Sunflower - Spider-Man: Into the Spider-Verse',\n",
       "        'Post Malone', 'dfw rap', 90, 48, 76, -6, 7, 91, 158, 56, 5, 91],\n",
       "       [19, 'Lalala', 'Y2K', 'canadian hip hop', 130, 39, 84, -8, 14, 50,\n",
       "        161, 18, 8, 88],\n",
       "       [20, 'Truth Hurts', 'Lizzo', 'escape room', 158, 62, 72, -3, 12,\n",
       "        41, 173, 11, 11, 91],\n",
       "       [21, 'Piece Of Your Heart', 'MEDUZA', 'pop house', 124, 74, 68,\n",
       "        -7, 7, 63, 153, 4, 3, 91],\n",
       "       [22, 'Panini', 'Lil Nas X', 'country rap', 154, 59, 70, -6, 12,\n",
       "        48, 115, 34, 8, 91],\n",
       "       [23, 'No Me Conoce - Remix', 'Jhay Cortez', 'reggaeton flow', 92,\n",
       "        79, 81, -4, 9, 58, 309, 14, 7, 83],\n",
       "       [24, 'Soltera - Remix', 'Lunay', 'latin', 92, 78, 80, -4, 44, 80,\n",
       "        266, 36, 4, 91],\n",
       "       [25, 'bad guy (with Justin Bieber)', 'Billie Eilish',\n",
       "        'electropop', 135, 45, 67, -11, 12, 68, 195, 25, 30, 89],\n",
       "       [26, \"If I Can't Have You\", 'Shawn Mendes', 'canadian pop', 124,\n",
       "        82, 69, -4, 13, 87, 191, 49, 6, 70],\n",
       "       [27, 'Dance Monkey', 'Tones and I', 'australian pop', 98, 59, 82,\n",
       "        -6, 18, 54, 210, 69, 10, 83],\n",
       "       [28, \"It's You\", 'Ali Gatie', 'canadian hip hop', 96, 46, 73, -7,\n",
       "        19, 40, 213, 37, 3, 89],\n",
       "       [29, 'Con Calma', 'Daddy Yankee', 'latin', 94, 86, 74, -3, 6, 66,\n",
       "        193, 11, 6, 91],\n",
       "       [30, 'QUE PRETENDES', 'J Balvin', 'latin', 93, 79, 64, -4, 36, 94,\n",
       "        222, 3, 25, 89],\n",
       "       [31, 'Takeaway', 'The Chainsmokers', 'edm', 85, 51, 29, -8, 10,\n",
       "        36, 210, 12, 4, 84],\n",
       "       [32, '7 rings', 'Ariana Grande', 'dance pop', 140, 32, 78, -11, 9,\n",
       "        33, 179, 59, 33, 89],\n",
       "       [33, '0.958333333333333', 'Maluma', 'reggaeton', 96, 71, 78, -5,\n",
       "        9, 68, 176, 22, 28, 89],\n",
       "       [34, 'The London (feat. J. Cole & Travis Scott)', 'Young Thug',\n",
       "        'atl hip hop', 98, 59, 80, -7, 13, 18, 200, 2, 15, 89],\n",
       "       [35, 'Never Really Over', 'Katy Perry', 'dance pop', 100, 88, 77,\n",
       "        -5, 32, 39, 224, 19, 6, 89],\n",
       "       [36,\n",
       "        'Summer Days (feat. Macklemore & Patrick Stump of Fall Out Boy)',\n",
       "        'Martin Garrix', 'big room', 114, 72, 66, -7, 14, 32, 164, 18, 6,\n",
       "        89],\n",
       "       [37, 'Otro Trago', 'Sech', 'panamanian pop', 176, 70, 75, -5, 11,\n",
       "        62, 226, 14, 34, 91],\n",
       "       [38, 'Antisocial (with Travis Scott)', 'Ed Sheeran', 'pop', 152,\n",
       "        82, 72, -5, 36, 91, 162, 13, 5, 87],\n",
       "       [39, 'Sucker', 'Jonas Brothers', 'boy band', 138, 73, 84, -5, 11,\n",
       "        95, 181, 4, 6, 80],\n",
       "       [40,\n",
       "        \"fuck, i'm lonely (with Anne-Marie) - from \\x9313 Reasons Why: Season 3\\x94\",\n",
       "        'Lauv', 'dance pop', 95, 56, 81, -6, 6, 68, 199, 48, 7, 78],\n",
       "       [41, 'Higher Love', 'Kygo', 'edm', 104, 68, 69, -7, 10, 40, 228,\n",
       "        2, 3, 88],\n",
       "       [42, 'You Need To Calm Down', 'Taylor Swift', 'dance pop', 85, 68,\n",
       "        77, -6, 7, 73, 171, 1, 5, 90],\n",
       "       [43, 'Shallow', 'Lady Gaga', 'dance pop', 96, 39, 57, -6, 23, 32,\n",
       "        216, 37, 3, 87],\n",
       "       [44, 'Talk', 'Khalid', 'pop', 136, 40, 90, -9, 6, 35, 198, 5, 13,\n",
       "        84],\n",
       "       [45, 'Con Altura', 'ROSALÍA', 'r&b en espanol', 98, 69, 88, -4, 5,\n",
       "        75, 162, 39, 12, 88],\n",
       "       [46, 'One Thing Right', 'Marshmello', 'brostep', 88, 62, 66, -2,\n",
       "        58, 44, 182, 7, 5, 88],\n",
       "       [47, 'Te Robaré', 'Nicky Jam', 'latin', 176, 75, 67, -4, 8, 80,\n",
       "        202, 24, 6, 88],\n",
       "       [48, 'Happier', 'Marshmello', 'brostep', 100, 79, 69, -3, 17, 67,\n",
       "        214, 19, 5, 88],\n",
       "       [49, 'Call You Mine', 'The Chainsmokers', 'edm', 104, 70, 59, -6,\n",
       "        41, 50, 218, 23, 3, 88],\n",
       "       [50, 'Cross Me (feat. Chance the Rapper & PnB Rock)',\n",
       "        'Ed Sheeran', 'pop', 95, 79, 75, -6, 7, 61, 206, 21, 12, 82]],\n",
       "      dtype=object)"
      ]
     },
     "execution_count": 20,
     "metadata": {},
     "output_type": "execute_result"
    }
   ],
   "source": [
    "data"
   ]
  },
  {
   "cell_type": "code",
   "execution_count": 21,
   "id": "d6ca9ece",
   "metadata": {},
   "outputs": [],
   "source": [
    "X=np.array(data[:,5:7])"
   ]
  },
  {
   "cell_type": "code",
   "execution_count": 23,
   "id": "899fa529",
   "metadata": {},
   "outputs": [],
   "source": [
    "import matplotlib.pyplot as plt\n",
    "\n",
    "from sklearn.cluster import KMeans\n",
    "from sklearn.datasets import make_blobs"
   ]
  },
  {
   "cell_type": "code",
   "execution_count": 25,
   "id": "f31b6280",
   "metadata": {},
   "outputs": [],
   "source": [
    "random_state = 170"
   ]
  },
  {
   "cell_type": "code",
   "execution_count": 27,
   "id": "a5fe63f7",
   "metadata": {},
   "outputs": [
    {
     "data": {
      "text/plain": [
       "<matplotlib.collections.PathCollection at 0x7f7ac8d12320>"
      ]
     },
     "execution_count": 27,
     "metadata": {},
     "output_type": "execute_result"
    },
    {
     "data": {
      "image/png": "[encoded data removed]",
      "text/plain": [
       "<Figure size 432x288 with 1 Axes>"
      ]
     },
     "metadata": {},
     "output_type": "display_data"
    }
   ],
   "source": [
    "plt.scatter(X[:,0],X[:,1], label='True Position')"
   ]
  },
  {
   "cell_type": "code",
   "execution_count": 28,
   "id": "10c7a4bd",
   "metadata": {},
   "outputs": [
    {
     "data": {
      "text/plain": [
       "KMeans(n_clusters=2)"
      ]
     },
     "execution_count": 28,
     "metadata": {},
     "output_type": "execute_result"
    }
   ],
   "source": [
    "kmeans = KMeans(n_clusters=2)\n",
    "kmeans.fit(X)"
   ]
  },
  {
   "cell_type": "code",
   "execution_count": 29,
   "id": "f28ac6d4",
   "metadata": {},
   "outputs": [
    {
     "name": "stdout",
     "output_type": "stream",
     "text": [
      "[[72.60606061 71.3030303 ]\n",
      " [47.47058824 71.52941176]]\n"
     ]
    }
   ],
   "source": [
    "print(kmeans.cluster_centers_)"
   ]
  },
  {
   "cell_type": "code",
   "execution_count": 30,
   "id": "180a1240",
   "metadata": {},
   "outputs": [
    {
     "name": "stdout",
     "output_type": "stream",
     "text": [
      "[1 0 0 0 0 0 0 0 0 1 0 0 1 0 1 1 0 1 1 0 0 1 0 0 1 0 1 1 0 0 1 1 0 1 0 0 0\n",
      " 0 0 1 0 0 1 1 0 0 0 0 0 0]\n"
     ]
    }
   ],
   "source": [
    "print(kmeans.labels_)"
   ]
  },
  {
   "cell_type": "code",
   "execution_count": 31,
   "id": "fd29ca58",
   "metadata": {},
   "outputs": [
    {
     "data": {
      "text/plain": [
       "<matplotlib.collections.PathCollection at 0x7f7ac8c88898>"
      ]
     },
     "execution_count": 31,
     "metadata": {},
     "output_type": "execute_result"
    },
    {
     "data": {
      "image/png": "[encoded data removed]",
      "text/plain": [
       "<Figure size 432x288 with 1 Axes>"
      ]
     },
     "metadata": {},
     "output_type": "display_data"
    }
   ],
   "source": [
    "plt.scatter(X[:,0],X[:,1], c=kmeans.labels_, cmap='rainbow')"
   ]
  },
  {
   "cell_type": "code",
   "execution_count": 33,
   "id": "bb2ac1da",
   "metadata": {},
   "outputs": [
    {
     "data": {
      "text/plain": [
       "<matplotlib.collections.PathCollection at 0x7f7ac8b5f3c8>"
      ]
     },
     "execution_count": 33,
     "metadata": {},
     "output_type": "execute_result"
    },
    {
     "data": {
      "image/png": "[encoded data removed]",
      "text/plain": [
       "<Figure size 432x288 with 1 Axes>"
      ]
     },
     "metadata": {},
     "output_type": "display_data"
    }
   ],
   "source": [
    "plt.scatter(X[:,0], X[:,1], c=kmeans.labels_, cmap='rainbow')\n",
    "plt.scatter(kmeans.cluster_centers_[:,0] ,kmeans.cluster_centers_[:,1], color='black')\n",
    "#centroids in black"
   ]
  },
  {
   "cell_type": "code",
   "execution_count": 36,
   "id": "2d1abd42",
   "metadata": {},
   "outputs": [
    {
     "data": {
      "text/plain": [
       "<matplotlib.collections.PathCollection at 0x7f7ac8a205c0>"
      ]
     },
     "execution_count": 36,
     "metadata": {},
     "output_type": "execute_result"
    },
    {
     "data": {
      "image/png": "[encoded data removed]",
      "text/plain": [
       "<Figure size 432x288 with 1 Axes>"
      ]
     },
     "metadata": {},
     "output_type": "display_data"
    }
   ],
   "source": [
    "kmeans = KMeans(n_clusters=4)\n",
    "kmeans.fit(X)\n",
    "plt.scatter(X[:,0], X[:,1], c=kmeans.labels_, cmap='cool')\n",
    "plt.scatter(kmeans.cluster_centers_[:,0] ,kmeans.cluster_centers_[:,1], color='black')"
   ]
  },
  {
   "cell_type": "code",
   "execution_count": 40,
   "id": "8356b811",
   "metadata": {},
   "outputs": [
    {
     "data": {
      "text/plain": [
       "array([[55, 76],\n",
       "       [81, 79],\n",
       "       [80, 40],\n",
       "       [65, 64],\n",
       "       [65, 58],\n",
       "       [68, 80],\n",
       "       [64, 75],\n",
       "       [68, 48],\n",
       "       [62, 88],\n",
       "       [43, 70],\n",
       "       [62, 61],\n",
       "       [71, 82],\n",
       "       [41, 50],\n",
       "       [79, 73],\n",
       "       [50, 83],\n",
       "       [45, 70],\n",
       "       [65, 75],\n",
       "       [48, 76],\n",
       "       [39, 84],\n",
       "       [62, 72],\n",
       "       [74, 68],\n",
       "       [59, 70],\n",
       "       [79, 81],\n",
       "       [78, 80],\n",
       "       [45, 67],\n",
       "       [82, 69],\n",
       "       [59, 82],\n",
       "       [46, 73],\n",
       "       [86, 74],\n",
       "       [79, 64],\n",
       "       [51, 29],\n",
       "       [32, 78],\n",
       "       [71, 78],\n",
       "       [59, 80],\n",
       "       [88, 77],\n",
       "       [72, 66],\n",
       "       [70, 75],\n",
       "       [82, 72],\n",
       "       [73, 84],\n",
       "       [56, 81],\n",
       "       [68, 69],\n",
       "       [68, 77],\n",
       "       [39, 57],\n",
       "       [40, 90],\n",
       "       [69, 88],\n",
       "       [62, 66],\n",
       "       [75, 67],\n",
       "       [79, 69],\n",
       "       [70, 59],\n",
       "       [79, 75]], dtype=object)"
      ]
     },
     "execution_count": 40,
     "metadata": {},
     "output_type": "execute_result"
    }
   ],
   "source": [
    "X"
   ]
  },
  {
   "cell_type": "code",
   "execution_count": 49,
   "id": "e4045603",
   "metadata": {},
   "outputs": [
    {
     "data": {
      "text/plain": [
       "array([3, 0, 2, 2, 2, 3, 3, 2, 3, 1, 2, 3, 2, 0, 1, 1, 3, 1, 1, 3, 0, 3,\n",
       "       0, 0, 1, 0, 3, 1, 0, 0, 2, 1, 3, 3, 0, 0, 3, 0, 3, 3, 3, 3, 1, 1,\n",
       "       3, 3, 0, 0, 2, 0], dtype=int32)"
      ]
     },
     "execution_count": 49,
     "metadata": {},
     "output_type": "execute_result"
    }
   ],
   "source": [
    "kmeans.labels_"
   ]
  },
  {
   "cell_type": "markdown",
   "id": "d2dc0964",
   "metadata": {},
   "source": [
    "analysis of clusters:\n",
    "CountVectorizer\n",
    "on the genre \n",
    "and train a logistic regression model with the kmeans.labels_"
   ]
  },
  {
   "cell_type": "code",
   "execution_count": 42,
   "id": "32c70568",
   "metadata": {},
   "outputs": [],
   "source": [
    "from sklearn.feature_extraction.text import CountVectorizer"
   ]
  },
  {
   "cell_type": "code",
   "execution_count": 98,
   "id": "530554d7",
   "metadata": {},
   "outputs": [],
   "source": [
    "vectorizer = CountVectorizer()\n",
    "X2 = vectorizer.fit_transform(data[:,3])"
   ]
  },
  {
   "cell_type": "code",
   "execution_count": 72,
   "id": "9efddcdc",
   "metadata": {},
   "outputs": [
    {
     "data": {
      "text/plain": [
       "array(['canadian pop', 'reggaeton flow', 'dance pop'], dtype=object)"
      ]
     },
     "execution_count": 72,
     "metadata": {},
     "output_type": "execute_result"
    }
   ],
   "source": [
    "data[:3,3]"
   ]
  },
  {
   "cell_type": "code",
   "execution_count": 71,
   "id": "25ddf2f0",
   "metadata": {},
   "outputs": [
    {
     "data": {
      "text/plain": [
       "array([[1, 0, 0, 1, 0],\n",
       "       [0, 0, 1, 0, 1],\n",
       "       [0, 1, 0, 1, 0]])"
      ]
     },
     "execution_count": 71,
     "metadata": {},
     "output_type": "execute_result"
    }
   ],
   "source": [
    "vectorizer.fit_transform(data[:3,3]).toarray()"
   ]
  },
  {
   "cell_type": "code",
   "execution_count": 99,
   "id": "99ea6a2f",
   "metadata": {},
   "outputs": [
    {
     "data": {
      "text/plain": [
       "['atl',\n",
       " 'australian',\n",
       " 'band',\n",
       " 'big',\n",
       " 'boy',\n",
       " 'brostep',\n",
       " 'canadian',\n",
       " 'country',\n",
       " 'dance',\n",
       " 'dfw',\n",
       " 'edm',\n",
       " 'electropop',\n",
       " 'en',\n",
       " 'escape',\n",
       " 'espanol',\n",
       " 'flow',\n",
       " 'hip',\n",
       " 'hop',\n",
       " 'house',\n",
       " 'latin',\n",
       " 'music',\n",
       " 'panamanian',\n",
       " 'pop',\n",
       " 'rap',\n",
       " 'reggaeton',\n",
       " 'room',\n",
       " 'trap']"
      ]
     },
     "execution_count": 99,
     "metadata": {},
     "output_type": "execute_result"
    }
   ],
   "source": [
    "vectorizer.get_feature_names()"
   ]
  },
  {
   "cell_type": "code",
   "execution_count": 60,
   "id": "bced8af4",
   "metadata": {},
   "outputs": [
    {
     "name": "stdout",
     "output_type": "stream",
     "text": [
      "[[0 0 0 ... 0 0 0]\n",
      " [0 0 0 ... 1 0 0]\n",
      " [0 0 0 ... 0 0 0]\n",
      " ...\n",
      " [0 0 0 ... 0 0 0]\n",
      " [0 0 0 ... 0 0 0]\n",
      " [0 0 0 ... 0 0 0]]\n"
     ]
    }
   ],
   "source": [
    "print(X2.toarray())"
   ]
  },
  {
   "cell_type": "code",
   "execution_count": 61,
   "id": "a1e34588",
   "metadata": {},
   "outputs": [
    {
     "data": {
      "text/plain": [
       "(50, 27)"
      ]
     },
     "execution_count": 61,
     "metadata": {},
     "output_type": "execute_result"
    }
   ],
   "source": [
    "X2.toarray().shape"
   ]
  },
  {
   "cell_type": "code",
   "execution_count": 73,
   "id": "91ca4c21",
   "metadata": {},
   "outputs": [],
   "source": [
    "from sklearn.linear_model import LogisticRegression"
   ]
  },
  {
   "cell_type": "code",
   "execution_count": 81,
   "id": "ce76a349",
   "metadata": {},
   "outputs": [],
   "source": [
    "clf = LogisticRegression(random_state=0).fit(X2,kmeans.labels_)"
   ]
  },
  {
   "cell_type": "code",
   "execution_count": 82,
   "id": "67e02dde",
   "metadata": {},
   "outputs": [
    {
     "data": {
      "text/plain": [
       "array([0, 0, 3, 3, 2, 3, 3, 3, 3, 1, 3, 3, 3, 3, 1, 3, 0, 2, 1, 3, 0, 3,\n",
       "       0, 0, 1, 0, 3, 1, 0, 0, 2, 3, 3, 3, 3, 0, 3, 3, 3, 3, 2, 3, 3, 3,\n",
       "       3, 3, 0, 3, 2, 3], dtype=int32)"
      ]
     },
     "execution_count": 82,
     "metadata": {},
     "output_type": "execute_result"
    }
   ],
   "source": [
    "clf.predict(X2)"
   ]
  },
  {
   "cell_type": "code",
   "execution_count": 83,
   "id": "ad498cf6",
   "metadata": {},
   "outputs": [
    {
     "data": {
      "text/plain": [
       "array([3, 0, 2, 2, 2, 3, 3, 2, 3, 1, 2, 3, 2, 0, 1, 1, 3, 1, 1, 3, 0, 3,\n",
       "       0, 0, 1, 0, 3, 1, 0, 0, 2, 1, 3, 3, 0, 0, 3, 0, 3, 3, 3, 3, 1, 1,\n",
       "       3, 3, 0, 0, 2, 0], dtype=int32)"
      ]
     },
     "execution_count": 83,
     "metadata": {},
     "output_type": "execute_result"
    }
   ],
   "source": [
    "kmeans.labels_"
   ]
  },
  {
   "cell_type": "code",
   "execution_count": 84,
   "id": "5d6332aa",
   "metadata": {},
   "outputs": [
    {
     "data": {
      "text/plain": [
       "0.64"
      ]
     },
     "execution_count": 84,
     "metadata": {},
     "output_type": "execute_result"
    }
   ],
   "source": [
    "clf.score(X2,kmeans.labels_)"
   ]
  },
  {
   "cell_type": "code",
   "execution_count": 85,
   "id": "caaf0b9d",
   "metadata": {},
   "outputs": [],
   "source": [
    "X3 = vectorizer.fit_transform(data[:,2])"
   ]
  },
  {
   "cell_type": "code",
   "execution_count": 86,
   "id": "a62e6393",
   "metadata": {},
   "outputs": [
    {
     "data": {
      "text/plain": [
       "['aa',\n",
       " 'ali',\n",
       " 'and',\n",
       " 'anuel',\n",
       " 'ariana',\n",
       " 'bad',\n",
       " 'balvin',\n",
       " 'billie',\n",
       " 'brothers',\n",
       " 'brown',\n",
       " 'bunny',\n",
       " 'capaldi',\n",
       " 'chainsmokers',\n",
       " 'chris',\n",
       " 'cortez',\n",
       " 'daddy',\n",
       " 'dj',\n",
       " 'drake',\n",
       " 'ed',\n",
       " 'eilish',\n",
       " 'gaga',\n",
       " 'garrix',\n",
       " 'gatie',\n",
       " 'grande',\n",
       " 'jam',\n",
       " 'jhay',\n",
       " 'jonas',\n",
       " 'katy',\n",
       " 'khalid',\n",
       " 'kygo',\n",
       " 'lady',\n",
       " 'lauv',\n",
       " 'lewis',\n",
       " 'lil',\n",
       " 'lizzo',\n",
       " 'lunay',\n",
       " 'malone',\n",
       " 'maluma',\n",
       " 'marshmello',\n",
       " 'martin',\n",
       " 'meduza',\n",
       " 'mendes',\n",
       " 'nas',\n",
       " 'nicky',\n",
       " 'perry',\n",
       " 'post',\n",
       " 'rosalía',\n",
       " 'sam',\n",
       " 'sech',\n",
       " 'shawn',\n",
       " 'sheeran',\n",
       " 'smith',\n",
       " 'snake',\n",
       " 'swift',\n",
       " 'taylor',\n",
       " 'tecca',\n",
       " 'the',\n",
       " 'thug',\n",
       " 'tones',\n",
       " 'y2k',\n",
       " 'yankee',\n",
       " 'young']"
      ]
     },
     "execution_count": 86,
     "metadata": {},
     "output_type": "execute_result"
    }
   ],
   "source": [
    "vectorizer.get_feature_names()"
   ]
  },
  {
   "cell_type": "code",
   "execution_count": 87,
   "id": "9a6d502f",
   "metadata": {},
   "outputs": [
    {
     "data": {
      "text/plain": [
       "array([3, 0, 1, 0, 1, 0, 3, 2, 3, 1, 2, 3, 2, 3, 1, 1, 3, 1, 1, 3, 0, 3,\n",
       "       0, 0, 1, 3, 3, 1, 0, 3, 2, 1, 3, 3, 0, 0, 3, 0, 3, 3, 3, 3, 1, 1,\n",
       "       3, 3, 0, 3, 2, 0], dtype=int32)"
      ]
     },
     "execution_count": 87,
     "metadata": {},
     "output_type": "execute_result"
    }
   ],
   "source": [
    "clf2 = LogisticRegression(random_state=0).fit(X3,kmeans.labels_)\n",
    "clf2.predict(X3)"
   ]
  },
  {
   "cell_type": "code",
   "execution_count": 88,
   "id": "57d6fed3",
   "metadata": {},
   "outputs": [
    {
     "data": {
      "text/plain": [
       "0.84"
      ]
     },
     "execution_count": 88,
     "metadata": {},
     "output_type": "execute_result"
    }
   ],
   "source": [
    "clf2.score(X3,kmeans.labels_)"
   ]
  },
  {
   "cell_type": "code",
   "execution_count": 97,
   "id": "1e10e689",
   "metadata": {},
   "outputs": [
    {
     "ename": "TypeError",
     "evalue": "only integer scalar arrays can be converted to a scalar index",
     "output_type": "error",
     "traceback": [
      "\u001b[0;31m---------------------------------------------------------------------------\u001b[0m",
      "\u001b[0;31mTypeError\u001b[0m                                 Traceback (most recent call last)",
      "\u001b[0;32m<ipython-input-97-16c1c79282d5>\u001b[0m in \u001b[0;36m<module>\u001b[0;34m\u001b[0m\n\u001b[0;32m----> 1\u001b[0;31m \u001b[0mvectorizer\u001b[0m\u001b[0;34m[\u001b[0m\u001b[0mclf\u001b[0m\u001b[0;34m.\u001b[0m\u001b[0mcoef_\u001b[0m\u001b[0;34m[\u001b[0m\u001b[0;36m0\u001b[0m\u001b[0;34m]\u001b[0m\u001b[0;34m.\u001b[0m\u001b[0margsort\u001b[0m\u001b[0;34m(\u001b[0m\u001b[0;34m)\u001b[0m\u001b[0;34m]\u001b[0m\u001b[0;34m\u001b[0m\u001b[0;34m\u001b[0m\u001b[0m\n\u001b[0m",
      "\u001b[0;31mTypeError\u001b[0m: only integer scalar arrays can be converted to a scalar index"
     ]
    }
   ],
   "source": [
    "\n",
    "#vectorizer[clf.coef_[0].argsort()]"
   ]
  },
  {
   "cell_type": "code",
   "execution_count": 104,
   "id": "34a4f51c",
   "metadata": {},
   "outputs": [
    {
     "data": {
      "text/plain": [
       "array([ 8, 10, 23, 17, 16, 11,  9,  1, 13,  7, 20, 14, 26,  4,  2, 12,  0,\n",
       "        6, 22, 24, 21, 25,  5,  3, 18, 15, 19])"
      ]
     },
     "execution_count": 104,
     "metadata": {},
     "output_type": "execute_result"
    }
   ],
   "source": [
    "clf.coef_[0].argsort()"
   ]
  },
  {
   "cell_type": "code",
   "execution_count": 108,
   "id": "cffd0e58",
   "metadata": {},
   "outputs": [
    {
     "data": {
      "text/plain": [
       "27"
      ]
     },
     "execution_count": 108,
     "metadata": {},
     "output_type": "execute_result"
    }
   ],
   "source": [
    "clf.coef_[0].argsort().size"
   ]
  },
  {
   "cell_type": "code",
   "execution_count": 119,
   "id": "c9786c40",
   "metadata": {},
   "outputs": [],
   "source": [
    "#3 most important words for cluster 1\n",
    "important=clf.coef_[0].argsort()[clf.coef_[0].argsort().size-3:]"
   ]
  },
  {
   "cell_type": "code",
   "execution_count": 120,
   "id": "9a116563",
   "metadata": {},
   "outputs": [
    {
     "data": {
      "text/plain": [
       "array([18, 15, 19])"
      ]
     },
     "execution_count": 120,
     "metadata": {},
     "output_type": "execute_result"
    }
   ],
   "source": [
    "important"
   ]
  },
  {
   "cell_type": "code",
   "execution_count": 121,
   "id": "4cf81636",
   "metadata": {},
   "outputs": [
    {
     "name": "stdout",
     "output_type": "stream",
     "text": [
      "house\n",
      "flow\n",
      "latin\n"
     ]
    }
   ],
   "source": [
    "for i in range(important.size):\n",
    "    print(vectorizer.get_feature_names()[important[i]])"
   ]
  },
  {
   "cell_type": "code",
   "execution_count": 123,
   "id": "99766688",
   "metadata": {},
   "outputs": [
    {
     "name": "stdout",
     "output_type": "stream",
     "text": [
      "hop\n",
      "dance\n",
      "electropop\n"
     ]
    }
   ],
   "source": [
    "#3 most important words for cluster 2\n",
    "important=clf.coef_[1].argsort()[clf.coef_[1].argsort().size-3:]\n",
    "for i in range(important.size):\n",
    "    print(vectorizer.get_feature_names()[important[i]])"
   ]
  },
  {
   "cell_type": "code",
   "execution_count": 124,
   "id": "44964bb9",
   "metadata": {},
   "outputs": [
    {
     "name": "stdout",
     "output_type": "stream",
     "text": [
      "reggaeton\n",
      "dfw\n",
      "edm\n"
     ]
    }
   ],
   "source": [
    "#3 most important words for cluster 3\n",
    "important=clf.coef_[2].argsort()[clf.coef_[2].argsort().size-3:]\n",
    "for i in range(important.size):\n",
    "    print(vectorizer.get_feature_names()[important[i]])"
   ]
  },
  {
   "cell_type": "code",
   "execution_count": 125,
   "id": "217b4235",
   "metadata": {},
   "outputs": [
    {
     "name": "stdout",
     "output_type": "stream",
     "text": [
      "australian\n",
      "atl\n",
      "country\n"
     ]
    }
   ],
   "source": [
    "#3 most important words for cluster 4\n",
    "important=clf.coef_[3].argsort()[clf.coef_[3].argsort().size-3:]\n",
    "for i in range(important.size):\n",
    "    print(vectorizer.get_feature_names()[important[i]])"
   ]
  },
  {
   "cell_type": "markdown",
   "id": "529f710f",
   "metadata": {},
   "source": [
    "#TODO:\n",
    "https://www.kaggle.com/datasnaek/youtube-new?select=USvideos.csv\n",
    "do kmeans, countvectorizer, logistic regression on youtube dataset\n",
    "learn PCA + use same dataset "
   ]
  },
  {
   "cell_type": "code",
   "execution_count": null,
   "id": "85455229",
   "metadata": {},
   "outputs": [],
   "source": []
  }
 ],
 "metadata": {
  "kernelspec": {
   "display_name": "Python 3",
   "language": "python",
   "name": "python3"
  },
  "language_info": {
   "codemirror_mode": {
    "name": "ipython",
    "version": 3
   },
   "file_extension": ".py",
   "mimetype": "text/x-python",
   "name": "python",
   "nbconvert_exporter": "python",
   "pygments_lexer": "ipython3",
   "version": "3.6.9"
  }
 },
 "nbformat": 4,
 "nbformat_minor": 5
}
