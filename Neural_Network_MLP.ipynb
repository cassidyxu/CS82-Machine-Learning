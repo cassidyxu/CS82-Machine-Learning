{
 "cells": [
  {
   "cell_type": "markdown",
   "id": "e4bb7a0f",
   "metadata": {},
   "source": [
    "https://www.kaggle.com/anokas/kuzushiji"
   ]
  },
  {
   "cell_type": "code",
   "execution_count": 2,
   "id": "1fc65ff5",
   "metadata": {},
   "outputs": [],
   "source": [
    "import numpy as np\n",
    "import matplotlib.pyplot as plt\n",
    "from sklearn.datasets import fetch_openml\n",
    "from sklearn.exceptions import ConvergenceWarning\n",
    "from sklearn.neural_network import MLPClassifier"
   ]
  },
  {
   "cell_type": "code",
   "execution_count": 3,
   "id": "5d8eda65",
   "metadata": {},
   "outputs": [],
   "source": [
    "img_train = np.load(\"kmnist-train-imgs.npz\")['arr_0']"
   ]
  },
  {
   "cell_type": "code",
   "execution_count": 6,
   "id": "39fd32c8",
   "metadata": {},
   "outputs": [],
   "source": [
    "img_test = np.load(\"kmnist-test-imgs.npz\")['arr_0']\n",
    "label_train = np.load(\"kmnist-train-labels.npz\")['arr_0']\n",
    "label_test = np.load(\"kmnist-test-labels.npz\")['arr_0']"
   ]
  },
  {
   "cell_type": "code",
   "execution_count": 7,
   "id": "e86973d7",
   "metadata": {},
   "outputs": [
    {
     "data": {
      "text/plain": [
       "array([0, 1, 2, 3, 4, 5, 6, 7, 8, 9], dtype=uint8)"
      ]
     },
     "execution_count": 7,
     "metadata": {},
     "output_type": "execute_result"
    }
   ],
   "source": [
    "np.unique(label_train)"
   ]
  },
  {
   "cell_type": "code",
   "execution_count": 8,
   "id": "55ef5b4c",
   "metadata": {},
   "outputs": [],
   "source": [
    "from PIL import Image"
   ]
  },
  {
   "cell_type": "code",
   "execution_count": 9,
   "id": "06a35f96",
   "metadata": {},
   "outputs": [
    {
     "data": {
      "image/png": "[encoded data removed]",
      "text/plain": [
       "<PIL.Image.Image image mode=L size=20x20 at 0x7FC2086321D0>"
      ]
     },
     "execution_count": 9,
     "metadata": {},
     "output_type": "execute_result"
    }
   ],
   "source": [
    "Image.fromarray(img_train[0]).resize((20,20))"
   ]
  },
  {
   "cell_type": "code",
   "execution_count": 10,
   "id": "65d5585c",
   "metadata": {},
   "outputs": [],
   "source": [
    "small_imgs_train=[]\n",
    "small_imgs_test=[]\n",
    "for i in range(img_train.shape[0]):\n",
    "    small_imgs_train.append(np.array(Image.fromarray(img_train[i]).resize((20,20))))\n",
    "    \n",
    "small_imgs_train=np.array(small_imgs_train)\n",
    "for i in range(img_test.shape[0]):\n",
    "    small_imgs_test.append(np.array(Image.fromarray(img_test[i]).resize((20,20))))\n",
    "    \n",
    "small_imgs_test=np.array(small_imgs_test)"
   ]
  },
  {
   "cell_type": "code",
   "execution_count": null,
   "id": "fbe7ac2f",
   "metadata": {},
   "outputs": [],
   "source": []
  },
  {
   "cell_type": "code",
   "execution_count": 11,
   "id": "640f7947",
   "metadata": {},
   "outputs": [
    {
     "data": {
      "image/png": "[encoded data removed]",
      "text/plain": [
       "<Figure size 432x288 with 1 Axes>"
      ]
     },
     "metadata": {},
     "output_type": "display_data"
    }
   ],
   "source": [
    "X_train, X_test = small_imgs_train, small_imgs_test\n",
    "import matplotlib.pyplot as plt\n",
    "\n",
    "plt.imshow(X_train[2])\n",
    "plt.show()\n",
    "X_train=X_train.reshape(X_train.shape[0],-1)\n",
    "X_test=X_test.reshape(X_test.shape[0],-1)\n",
    "\n",
    "y_train, y_test = label_train, label_test\n",
    "y_train=y_train.reshape(y_train.shape[0],-1)\n",
    "y_test=y_test.reshape(y_test.shape[0],-1)"
   ]
  },
  {
   "cell_type": "code",
   "execution_count": 12,
   "id": "c012431a",
   "metadata": {},
   "outputs": [
    {
     "data": {
      "text/plain": [
       "(60000, 400)"
      ]
     },
     "execution_count": 12,
     "metadata": {},
     "output_type": "execute_result"
    }
   ],
   "source": [
    "X_train.shape"
   ]
  },
  {
   "cell_type": "code",
   "execution_count": 13,
   "id": "feb02846",
   "metadata": {},
   "outputs": [],
   "source": [
    "mlp = MLPClassifier(hidden_layer_sizes=(25,10,10), max_iter=100, #alpha=1e-4,\n",
    "                    solver='adam', verbose=10, random_state=1,\n",
    "                    learning_rate_init=.0002)"
   ]
  },
  {
   "cell_type": "code",
   "execution_count": 14,
   "id": "a2bb37e8",
   "metadata": {},
   "outputs": [
    {
     "name": "stderr",
     "output_type": "stream",
     "text": [
      "/usr/local/lib/python3.6/dist-packages/sklearn/utils/validation.py:63: DataConversionWarning: A column-vector y was passed when a 1d array was expected. Please change the shape of y to (n_samples, ), for example using ravel().\n",
      "  return f(*args, **kwargs)\n",
      "/usr/local/lib/python3.6/dist-packages/sklearn/neural_network/_multilayer_perceptron.py:619: UserWarning: Training interrupted by user.\n",
      "  warnings.warn(\"Training interrupted by user.\")\n"
     ]
    },
    {
     "data": {
      "text/plain": [
       "MLPClassifier(hidden_layer_sizes=(25, 10, 10), learning_rate_init=0.0002,\n",
       "              max_iter=100, random_state=1, verbose=10)"
      ]
     },
     "execution_count": 14,
     "metadata": {},
     "output_type": "execute_result"
    }
   ],
   "source": [
    "\n",
    "mlp.fit(X_train, y_train)\n"
   ]
  },
  {
   "cell_type": "code",
   "execution_count": 20,
   "id": "bab9363f",
   "metadata": {},
   "outputs": [
    {
     "name": "stdout",
     "output_type": "stream",
     "text": [
      "Training set score: 0.640183\n",
      "Test set score: 0.490300\n"
     ]
    }
   ],
   "source": [
    "\n",
    "print(\"Training set score: %f\" % mlp.score(X_train, y_train))\n",
    "print(\"Test set score: %f\" % mlp.score(X_test, y_test))"
   ]
  },
  {
   "cell_type": "code",
   "execution_count": 23,
   "id": "f1403137",
   "metadata": {},
   "outputs": [
    {
     "data": {
      "text/plain": [
       "(400, 25)"
      ]
     },
     "execution_count": 23,
     "metadata": {},
     "output_type": "execute_result"
    }
   ],
   "source": [
    "mlp.coefs_[0].shape"
   ]
  },
  {
   "cell_type": "code",
   "execution_count": 25,
   "id": "87b0d516",
   "metadata": {
    "scrolled": true
   },
   "outputs": [
    {
     "data": {
      "image/png": "[encoded data removed]",
      "text/plain": [
       "<Figure size 432x288 with 16 Axes>"
      ]
     },
     "metadata": {},
     "output_type": "display_data"
    }
   ],
   "source": [
    "fig, axes = plt.subplots(4, 4)\n",
    "# use global min / max to ensure all weights are shown on the same scale\n",
    "vmin, vmax = mlp.coefs_[0].min(), mlp.coefs_[0].max()\n",
    "for coef, ax in zip(mlp.coefs_[0].T, axes.ravel()):\n",
    "    ax.matshow(coef.reshape(20, 20), cmap=plt.cm.gray, vmin=.5 * vmin,\n",
    "               vmax=.5 * vmax)\n",
    "    ax.set_xticks(())\n",
    "    ax.set_yticks(())"
   ]
  },
  {
   "cell_type": "markdown",
   "id": "2dae4e08",
   "metadata": {},
   "source": [
    "TODO:\n",
    "\n",
    "resize imgs using PIL\n",
    "try to improve accuracy"
   ]
  },
  {
   "cell_type": "markdown",
   "id": "d0aa2158",
   "metadata": {},
   "source": [
    "https://scikit-learn.org/stable/modules/generated/sklearn.datasets.load_digits.html"
   ]
  },
  {
   "cell_type": "markdown",
   "id": "640a9ade",
   "metadata": {},
   "source": [
    "TODO:\n",
    "mlp classifier on MNIST dataset\n",
    "Coefficients of mnist plotted in an image for the first layer (0) index"
   ]
  },
  {
   "cell_type": "code",
   "execution_count": null,
   "id": "694940a1",
   "metadata": {},
   "outputs": [],
   "source": []
  }
 ],
 "metadata": {
  "kernelspec": {
   "display_name": "Python 3",
   "language": "python",
   "name": "python3"
  },
  "language_info": {
   "codemirror_mode": {
    "name": "ipython",
    "version": 3
   },
   "file_extension": ".py",
   "mimetype": "text/x-python",
   "name": "python",
   "nbconvert_exporter": "python",
   "pygments_lexer": "ipython3",
   "version": "3.6.9"
  }
 },
 "nbformat": 4,
 "nbformat_minor": 5
}
