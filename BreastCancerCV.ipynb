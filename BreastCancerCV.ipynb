{
 "cells": [
  {
   "cell_type": "code",
   "execution_count": 1,
   "id": "20e83815",
   "metadata": {},
   "outputs": [],
   "source": [
    "#https://www.kaggle.com/brunogrisci/breast-cancer-gene-expression-cumida"
   ]
  },
  {
   "cell_type": "code",
   "execution_count": 2,
   "id": "0fb110c1",
   "metadata": {},
   "outputs": [],
   "source": [
    "import pandas as pd\n",
    "import numpy as np\n",
    "from sklearn import linear_model"
   ]
  },
  {
   "cell_type": "code",
   "execution_count": 3,
   "id": "fb3685b6",
   "metadata": {},
   "outputs": [],
   "source": [
    "breastcancer = pd.read_csv('Breast_GSE45827.csv')"
   ]
  },
  {
   "cell_type": "code",
   "execution_count": 4,
   "id": "ca9a10d5",
   "metadata": {},
   "outputs": [
    {
     "data": {
      "text/html": [
       "<div>\n",
       "<style scoped>\n",
       "    .dataframe tbody tr th:only-of-type {\n",
       "        vertical-align: middle;\n",
       "    }\n",
       "\n",
       "    .dataframe tbody tr th {\n",
       "        vertical-align: top;\n",
       "    }\n",
       "\n",
       "    .dataframe thead th {\n",
       "        text-align: right;\n",
       "    }\n",
       "</style>\n",
       "<table border=\"1\" class=\"dataframe\">\n",
       "  <thead>\n",
       "    <tr style=\"text-align: right;\">\n",
       "      <th></th>\n",
       "      <th>samples</th>\n",
       "      <th>type</th>\n",
       "      <th>1007_s_at</th>\n",
       "      <th>1053_at</th>\n",
       "      <th>117_at</th>\n",
       "      <th>121_at</th>\n",
       "      <th>1255_g_at</th>\n",
       "      <th>1294_at</th>\n",
       "      <th>1316_at</th>\n",
       "      <th>1320_at</th>\n",
       "      <th>...</th>\n",
       "      <th>AFFX-r2-Ec-bioD-3_at</th>\n",
       "      <th>AFFX-r2-Ec-bioD-5_at</th>\n",
       "      <th>AFFX-r2-P1-cre-3_at</th>\n",
       "      <th>AFFX-r2-P1-cre-5_at</th>\n",
       "      <th>AFFX-ThrX-3_at</th>\n",
       "      <th>AFFX-ThrX-5_at</th>\n",
       "      <th>AFFX-ThrX-M_at</th>\n",
       "      <th>AFFX-TrpnX-3_at</th>\n",
       "      <th>AFFX-TrpnX-5_at</th>\n",
       "      <th>AFFX-TrpnX-M_at</th>\n",
       "    </tr>\n",
       "  </thead>\n",
       "  <tbody>\n",
       "    <tr>\n",
       "      <th>0</th>\n",
       "      <td>84</td>\n",
       "      <td>basal</td>\n",
       "      <td>9.850040</td>\n",
       "      <td>8.097927</td>\n",
       "      <td>6.424728</td>\n",
       "      <td>7.353027</td>\n",
       "      <td>3.029122</td>\n",
       "      <td>6.880079</td>\n",
       "      <td>4.963740</td>\n",
       "      <td>4.408328</td>\n",
       "      <td>...</td>\n",
       "      <td>12.229711</td>\n",
       "      <td>11.852955</td>\n",
       "      <td>13.658701</td>\n",
       "      <td>13.477698</td>\n",
       "      <td>6.265781</td>\n",
       "      <td>5.016196</td>\n",
       "      <td>4.901594</td>\n",
       "      <td>2.966657</td>\n",
       "      <td>3.508495</td>\n",
       "      <td>3.301999</td>\n",
       "    </tr>\n",
       "    <tr>\n",
       "      <th>1</th>\n",
       "      <td>85</td>\n",
       "      <td>basal</td>\n",
       "      <td>9.861357</td>\n",
       "      <td>8.212222</td>\n",
       "      <td>7.062593</td>\n",
       "      <td>7.685578</td>\n",
       "      <td>3.149468</td>\n",
       "      <td>7.542283</td>\n",
       "      <td>5.129607</td>\n",
       "      <td>4.584418</td>\n",
       "      <td>...</td>\n",
       "      <td>12.178531</td>\n",
       "      <td>11.809408</td>\n",
       "      <td>13.750086</td>\n",
       "      <td>13.470146</td>\n",
       "      <td>6.771853</td>\n",
       "      <td>5.291005</td>\n",
       "      <td>5.405839</td>\n",
       "      <td>2.934763</td>\n",
       "      <td>3.687666</td>\n",
       "      <td>3.064299</td>\n",
       "    </tr>\n",
       "    <tr>\n",
       "      <th>2</th>\n",
       "      <td>87</td>\n",
       "      <td>basal</td>\n",
       "      <td>10.103478</td>\n",
       "      <td>8.936137</td>\n",
       "      <td>5.735970</td>\n",
       "      <td>7.687822</td>\n",
       "      <td>3.125931</td>\n",
       "      <td>6.562369</td>\n",
       "      <td>4.813449</td>\n",
       "      <td>4.425195</td>\n",
       "      <td>...</td>\n",
       "      <td>12.125108</td>\n",
       "      <td>11.725766</td>\n",
       "      <td>13.621732</td>\n",
       "      <td>13.295080</td>\n",
       "      <td>6.346952</td>\n",
       "      <td>5.171403</td>\n",
       "      <td>5.184286</td>\n",
       "      <td>2.847684</td>\n",
       "      <td>3.550597</td>\n",
       "      <td>3.158535</td>\n",
       "    </tr>\n",
       "    <tr>\n",
       "      <th>3</th>\n",
       "      <td>90</td>\n",
       "      <td>basal</td>\n",
       "      <td>9.756875</td>\n",
       "      <td>7.357148</td>\n",
       "      <td>6.479183</td>\n",
       "      <td>6.986624</td>\n",
       "      <td>3.181638</td>\n",
       "      <td>7.802344</td>\n",
       "      <td>5.490982</td>\n",
       "      <td>4.567956</td>\n",
       "      <td>...</td>\n",
       "      <td>12.111235</td>\n",
       "      <td>11.719215</td>\n",
       "      <td>13.743108</td>\n",
       "      <td>13.508861</td>\n",
       "      <td>6.610284</td>\n",
       "      <td>5.193356</td>\n",
       "      <td>5.086569</td>\n",
       "      <td>3.031602</td>\n",
       "      <td>3.524981</td>\n",
       "      <td>3.272665</td>\n",
       "    </tr>\n",
       "    <tr>\n",
       "      <th>4</th>\n",
       "      <td>91</td>\n",
       "      <td>basal</td>\n",
       "      <td>9.408330</td>\n",
       "      <td>7.746404</td>\n",
       "      <td>6.693980</td>\n",
       "      <td>7.333426</td>\n",
       "      <td>3.169923</td>\n",
       "      <td>7.610457</td>\n",
       "      <td>5.372469</td>\n",
       "      <td>4.424426</td>\n",
       "      <td>...</td>\n",
       "      <td>12.173642</td>\n",
       "      <td>11.861296</td>\n",
       "      <td>13.797774</td>\n",
       "      <td>13.542206</td>\n",
       "      <td>6.414354</td>\n",
       "      <td>5.040202</td>\n",
       "      <td>5.235318</td>\n",
       "      <td>2.956232</td>\n",
       "      <td>3.445501</td>\n",
       "      <td>3.193947</td>\n",
       "    </tr>\n",
       "    <tr>\n",
       "      <th>...</th>\n",
       "      <td>...</td>\n",
       "      <td>...</td>\n",
       "      <td>...</td>\n",
       "      <td>...</td>\n",
       "      <td>...</td>\n",
       "      <td>...</td>\n",
       "      <td>...</td>\n",
       "      <td>...</td>\n",
       "      <td>...</td>\n",
       "      <td>...</td>\n",
       "      <td>...</td>\n",
       "      <td>...</td>\n",
       "      <td>...</td>\n",
       "      <td>...</td>\n",
       "      <td>...</td>\n",
       "      <td>...</td>\n",
       "      <td>...</td>\n",
       "      <td>...</td>\n",
       "      <td>...</td>\n",
       "      <td>...</td>\n",
       "      <td>...</td>\n",
       "    </tr>\n",
       "    <tr>\n",
       "      <th>146</th>\n",
       "      <td>230</td>\n",
       "      <td>luminal_B</td>\n",
       "      <td>10.392638</td>\n",
       "      <td>7.334408</td>\n",
       "      <td>6.848586</td>\n",
       "      <td>7.020486</td>\n",
       "      <td>3.228065</td>\n",
       "      <td>7.815439</td>\n",
       "      <td>5.448470</td>\n",
       "      <td>4.496955</td>\n",
       "      <td>...</td>\n",
       "      <td>12.638556</td>\n",
       "      <td>12.122129</td>\n",
       "      <td>14.331152</td>\n",
       "      <td>14.133976</td>\n",
       "      <td>8.495888</td>\n",
       "      <td>4.971727</td>\n",
       "      <td>6.209136</td>\n",
       "      <td>2.852852</td>\n",
       "      <td>3.697448</td>\n",
       "      <td>3.333289</td>\n",
       "    </tr>\n",
       "    <tr>\n",
       "      <th>147</th>\n",
       "      <td>233</td>\n",
       "      <td>luminal_B</td>\n",
       "      <td>10.930875</td>\n",
       "      <td>8.415294</td>\n",
       "      <td>5.906827</td>\n",
       "      <td>7.753572</td>\n",
       "      <td>3.270557</td>\n",
       "      <td>7.367931</td>\n",
       "      <td>5.906849</td>\n",
       "      <td>5.194349</td>\n",
       "      <td>...</td>\n",
       "      <td>12.523507</td>\n",
       "      <td>11.977970</td>\n",
       "      <td>14.285405</td>\n",
       "      <td>14.070989</td>\n",
       "      <td>8.193182</td>\n",
       "      <td>6.528948</td>\n",
       "      <td>7.108210</td>\n",
       "      <td>2.929800</td>\n",
       "      <td>3.833289</td>\n",
       "      <td>3.213893</td>\n",
       "    </tr>\n",
       "    <tr>\n",
       "      <th>148</th>\n",
       "      <td>236</td>\n",
       "      <td>luminal_B</td>\n",
       "      <td>11.027098</td>\n",
       "      <td>7.180876</td>\n",
       "      <td>6.304736</td>\n",
       "      <td>7.641197</td>\n",
       "      <td>3.206950</td>\n",
       "      <td>8.569296</td>\n",
       "      <td>5.823146</td>\n",
       "      <td>4.617309</td>\n",
       "      <td>...</td>\n",
       "      <td>12.256767</td>\n",
       "      <td>11.661126</td>\n",
       "      <td>14.149586</td>\n",
       "      <td>13.977076</td>\n",
       "      <td>8.351331</td>\n",
       "      <td>6.882504</td>\n",
       "      <td>7.329545</td>\n",
       "      <td>3.085127</td>\n",
       "      <td>3.628848</td>\n",
       "      <td>3.215807</td>\n",
       "    </tr>\n",
       "    <tr>\n",
       "      <th>149</th>\n",
       "      <td>237</td>\n",
       "      <td>luminal_B</td>\n",
       "      <td>10.444395</td>\n",
       "      <td>7.525153</td>\n",
       "      <td>5.964460</td>\n",
       "      <td>7.825939</td>\n",
       "      <td>3.384147</td>\n",
       "      <td>7.268454</td>\n",
       "      <td>5.245072</td>\n",
       "      <td>5.088004</td>\n",
       "      <td>...</td>\n",
       "      <td>12.321900</td>\n",
       "      <td>11.727694</td>\n",
       "      <td>14.186277</td>\n",
       "      <td>13.943521</td>\n",
       "      <td>7.927210</td>\n",
       "      <td>6.839086</td>\n",
       "      <td>7.089259</td>\n",
       "      <td>3.018525</td>\n",
       "      <td>3.770597</td>\n",
       "      <td>3.102298</td>\n",
       "    </tr>\n",
       "    <tr>\n",
       "      <th>150</th>\n",
       "      <td>238</td>\n",
       "      <td>luminal_B</td>\n",
       "      <td>11.345817</td>\n",
       "      <td>7.379299</td>\n",
       "      <td>5.891172</td>\n",
       "      <td>7.394586</td>\n",
       "      <td>3.183420</td>\n",
       "      <td>7.792885</td>\n",
       "      <td>5.355978</td>\n",
       "      <td>4.457914</td>\n",
       "      <td>...</td>\n",
       "      <td>12.126110</td>\n",
       "      <td>11.478893</td>\n",
       "      <td>14.070188</td>\n",
       "      <td>13.857547</td>\n",
       "      <td>7.992141</td>\n",
       "      <td>5.661898</td>\n",
       "      <td>6.460331</td>\n",
       "      <td>3.061585</td>\n",
       "      <td>3.857525</td>\n",
       "      <td>3.129827</td>\n",
       "    </tr>\n",
       "  </tbody>\n",
       "</table>\n",
       "<p>151 rows × 54677 columns</p>\n",
       "</div>"
      ],
      "text/plain": [
       "     samples       type  1007_s_at   1053_at    117_at    121_at  1255_g_at  \\\n",
       "0         84      basal   9.850040  8.097927  6.424728  7.353027   3.029122   \n",
       "1         85      basal   9.861357  8.212222  7.062593  7.685578   3.149468   \n",
       "2         87      basal  10.103478  8.936137  5.735970  7.687822   3.125931   \n",
       "3         90      basal   9.756875  7.357148  6.479183  6.986624   3.181638   \n",
       "4         91      basal   9.408330  7.746404  6.693980  7.333426   3.169923   \n",
       "..       ...        ...        ...       ...       ...       ...        ...   \n",
       "146      230  luminal_B  10.392638  7.334408  6.848586  7.020486   3.228065   \n",
       "147      233  luminal_B  10.930875  8.415294  5.906827  7.753572   3.270557   \n",
       "148      236  luminal_B  11.027098  7.180876  6.304736  7.641197   3.206950   \n",
       "149      237  luminal_B  10.444395  7.525153  5.964460  7.825939   3.384147   \n",
       "150      238  luminal_B  11.345817  7.379299  5.891172  7.394586   3.183420   \n",
       "\n",
       "      1294_at   1316_at   1320_at  ...  AFFX-r2-Ec-bioD-3_at  \\\n",
       "0    6.880079  4.963740  4.408328  ...             12.229711   \n",
       "1    7.542283  5.129607  4.584418  ...             12.178531   \n",
       "2    6.562369  4.813449  4.425195  ...             12.125108   \n",
       "3    7.802344  5.490982  4.567956  ...             12.111235   \n",
       "4    7.610457  5.372469  4.424426  ...             12.173642   \n",
       "..        ...       ...       ...  ...                   ...   \n",
       "146  7.815439  5.448470  4.496955  ...             12.638556   \n",
       "147  7.367931  5.906849  5.194349  ...             12.523507   \n",
       "148  8.569296  5.823146  4.617309  ...             12.256767   \n",
       "149  7.268454  5.245072  5.088004  ...             12.321900   \n",
       "150  7.792885  5.355978  4.457914  ...             12.126110   \n",
       "\n",
       "     AFFX-r2-Ec-bioD-5_at  AFFX-r2-P1-cre-3_at  AFFX-r2-P1-cre-5_at  \\\n",
       "0               11.852955            13.658701            13.477698   \n",
       "1               11.809408            13.750086            13.470146   \n",
       "2               11.725766            13.621732            13.295080   \n",
       "3               11.719215            13.743108            13.508861   \n",
       "4               11.861296            13.797774            13.542206   \n",
       "..                    ...                  ...                  ...   \n",
       "146             12.122129            14.331152            14.133976   \n",
       "147             11.977970            14.285405            14.070989   \n",
       "148             11.661126            14.149586            13.977076   \n",
       "149             11.727694            14.186277            13.943521   \n",
       "150             11.478893            14.070188            13.857547   \n",
       "\n",
       "     AFFX-ThrX-3_at  AFFX-ThrX-5_at  AFFX-ThrX-M_at  AFFX-TrpnX-3_at  \\\n",
       "0          6.265781        5.016196        4.901594         2.966657   \n",
       "1          6.771853        5.291005        5.405839         2.934763   \n",
       "2          6.346952        5.171403        5.184286         2.847684   \n",
       "3          6.610284        5.193356        5.086569         3.031602   \n",
       "4          6.414354        5.040202        5.235318         2.956232   \n",
       "..              ...             ...             ...              ...   \n",
       "146        8.495888        4.971727        6.209136         2.852852   \n",
       "147        8.193182        6.528948        7.108210         2.929800   \n",
       "148        8.351331        6.882504        7.329545         3.085127   \n",
       "149        7.927210        6.839086        7.089259         3.018525   \n",
       "150        7.992141        5.661898        6.460331         3.061585   \n",
       "\n",
       "     AFFX-TrpnX-5_at  AFFX-TrpnX-M_at  \n",
       "0           3.508495         3.301999  \n",
       "1           3.687666         3.064299  \n",
       "2           3.550597         3.158535  \n",
       "3           3.524981         3.272665  \n",
       "4           3.445501         3.193947  \n",
       "..               ...              ...  \n",
       "146         3.697448         3.333289  \n",
       "147         3.833289         3.213893  \n",
       "148         3.628848         3.215807  \n",
       "149         3.770597         3.102298  \n",
       "150         3.857525         3.129827  \n",
       "\n",
       "[151 rows x 54677 columns]"
      ]
     },
     "execution_count": 4,
     "metadata": {},
     "output_type": "execute_result"
    }
   ],
   "source": [
    "breastcancer"
   ]
  },
  {
   "cell_type": "code",
   "execution_count": 5,
   "id": "974478b2",
   "metadata": {},
   "outputs": [],
   "source": [
    "bc = np.asarray(breastcancer)"
   ]
  },
  {
   "cell_type": "code",
   "execution_count": 6,
   "id": "186d75bf",
   "metadata": {},
   "outputs": [
    {
     "data": {
      "text/plain": [
       "array([0., 0., 0., 0., 0., 0., 0., 0., 0., 0., 0., 0., 0., 0., 0., 0., 0.,\n",
       "       0., 0., 0., 0., 0., 0., 0., 0., 0., 0., 0., 0., 0., 0., 0., 0., 0.,\n",
       "       0., 0., 0., 0., 0., 0., 0., 1., 1., 1., 1., 1., 1., 1., 1., 1., 1.,\n",
       "       1., 1., 1., 1., 1., 1., 1., 1., 1., 1., 1., 1., 1., 1., 1., 1., 1.,\n",
       "       1., 1., 1., 2., 2., 2., 2., 2., 2., 2., 2., 2., 2., 2., 2., 2., 2.,\n",
       "       3., 3., 3., 3., 3., 3., 3., 4., 4., 4., 4., 4., 4., 4., 4., 4., 4.,\n",
       "       4., 4., 4., 4., 4., 4., 4., 4., 4., 4., 4., 4., 4., 4., 4., 4., 4.,\n",
       "       4., 4., 5., 5., 5., 5., 5., 5., 5., 5., 5., 5., 5., 5., 5., 5., 5.,\n",
       "       5., 5., 5., 5., 5., 5., 5., 5., 5., 5., 5., 5., 5., 5., 5.],\n",
       "      dtype=float32)"
      ]
     },
     "execution_count": 6,
     "metadata": {},
     "output_type": "execute_result"
    }
   ],
   "source": [
    "y = breastcancer['type']\n",
    "y = np.where(y=='basal',0, y)\n",
    "y = np.where(y=='HER',1, y)\n",
    "y = np.where(y=='cell_line',2, y)\n",
    "y = np.where(y=='normal',3, y)\n",
    "y = np.where(y=='luminal_A',4, y)\n",
    "y = np.where(y=='luminal_B',5, y)\n",
    "y = y.astype(np.float32)\n",
    "y"
   ]
  },
  {
   "cell_type": "code",
   "execution_count": 7,
   "id": "48374bfc",
   "metadata": {},
   "outputs": [
    {
     "data": {
      "text/plain": [
       "151"
      ]
     },
     "execution_count": 7,
     "metadata": {},
     "output_type": "execute_result"
    }
   ],
   "source": [
    "y.size"
   ]
  },
  {
   "cell_type": "code",
   "execution_count": 10,
   "id": "05ca6bfe",
   "metadata": {},
   "outputs": [
    {
     "data": {
      "text/plain": [
       "array([[9.85003997180384, 8.0979273453965, 6.424728155184621, ...,\n",
       "        2.96665669762308, 3.50849465245684, 3.30199869074304],\n",
       "       [9.861357368436359, 8.21222224730015, 7.06259284118585, ...,\n",
       "        2.9347634956462003, 3.68766636912582, 3.0642990339473504],\n",
       "       [10.1034784967053, 8.936136847747619, 5.73596976813102, ...,\n",
       "        2.84768392861858, 3.55059674601823, 3.1585352235062496],\n",
       "       ...,\n",
       "       [11.0270980340987, 7.180875821556361, 6.30473602490037, ...,\n",
       "        3.08512740371328, 3.62884807180122, 3.2158073425583398],\n",
       "       [10.4443949924742, 7.52515250294596, 5.96445980406533, ...,\n",
       "        3.0185251888520597, 3.7705974480814803, 3.1022978168141],\n",
       "       [11.345817276444599, 7.37929929879176, 5.89117176746819, ...,\n",
       "        3.06158533217352, 3.85752547544796, 3.12982746034441]],\n",
       "      dtype=object)"
      ]
     },
     "execution_count": 10,
     "metadata": {},
     "output_type": "execute_result"
    }
   ],
   "source": [
    "X=bc[:,2:]\n",
    "X"
   ]
  },
  {
   "cell_type": "code",
   "execution_count": 11,
   "id": "e4264931",
   "metadata": {},
   "outputs": [
    {
     "data": {
      "text/plain": [
       "(151, 54675)"
      ]
     },
     "execution_count": 11,
     "metadata": {},
     "output_type": "execute_result"
    }
   ],
   "source": [
    "X.shape"
   ]
  },
  {
   "cell_type": "code",
   "execution_count": 12,
   "id": "df2635f1",
   "metadata": {},
   "outputs": [],
   "source": [
    "from sklearn.model_selection import (TimeSeriesSplit, KFold, ShuffleSplit,\n",
    "                                     StratifiedKFold, GroupShuffleSplit,\n",
    "                                     GroupKFold, StratifiedShuffleSplit)"
   ]
  },
  {
   "cell_type": "code",
   "execution_count": 13,
   "id": "4f942248",
   "metadata": {},
   "outputs": [],
   "source": [
    "import numpy as np\n",
    "import matplotlib.pyplot as plt\n",
    "from matplotlib.patches import Patch\n",
    "np.random.seed(1338)\n",
    "cmap_data = plt.cm.Paired\n",
    "cmap_cv = plt.cm.coolwarm\n",
    "n_splits = 4"
   ]
  },
  {
   "cell_type": "code",
   "execution_count": 14,
   "id": "8da45e44",
   "metadata": {},
   "outputs": [
    {
     "name": "stdout",
     "output_type": "stream",
     "text": [
      "151\n",
      "1208\n",
      "(151, 8)\n",
      "8\n",
      "(151,)\n"
     ]
    },
    {
     "data": {
      "image/png": "[encoded data removed]",
      "text/plain": [
       "<Figure size 432x288 with 1 Axes>"
      ]
     },
     "metadata": {},
     "output_type": "display_data"
    }
   ],
   "source": [
    "# Generate the class/group data\n",
    "n_points = y.size\n",
    "print(y.size)\n",
    "X2 = np.random.randn(y.size, 8)\n",
    "print(X2.size)\n",
    "print(X2.shape)\n",
    "print(X2[0].size)\n",
    "\n",
    "y2 = np.sort(y)\n",
    "\n",
    "# Evenly spaced groups repeated once\n",
    "groups = np.hstack([[ii] for ii in range(y.size)])\n",
    "print(groups.shape)\n",
    "\n",
    "\n",
    "def visualize_groups(classes, groups, name):\n",
    "    # Visualize dataset groups\n",
    "    fig, ax = plt.subplots()\n",
    "    ax.scatter(range(len(groups)),  [.5] * len(groups), c=groups, marker='_',\n",
    "               lw=50, cmap=cmap_data)\n",
    "    ax.scatter(range(len(groups)),  [3.5] * len(groups), c=classes, marker='_',\n",
    "               lw=50, cmap=cmap_data)\n",
    "    ax.set(ylim=[-1, 5], yticks=[.5, 3.5],\n",
    "           yticklabels=['Data\\ngroup', 'Data\\nclass'], xlabel=\"Sample index\")\n",
    "\n",
    "\n",
    "visualize_groups(y2, groups, 'no groups')"
   ]
  },
  {
   "cell_type": "code",
   "execution_count": 15,
   "id": "bf0adb2c",
   "metadata": {},
   "outputs": [
    {
     "data": {
      "text/plain": [
       "<AxesSubplot:title={'center':'KFold'}, xlabel='Sample index', ylabel='CV iteration'>"
      ]
     },
     "execution_count": 15,
     "metadata": {},
     "output_type": "execute_result"
    },
    {
     "data": {
      "image/png": "[encoded data removed]",
      "text/plain": [
       "<Figure size 432x288 with 1 Axes>"
      ]
     },
     "metadata": {},
     "output_type": "display_data"
    }
   ],
   "source": [
    "def plot_cv_indices(cv, X, y, group, ax, n_splits, lw=10):\n",
    "    \"\"\"Create a sample plot for indices of a cross-validation object.\"\"\"\n",
    "\n",
    "    # Generate the training/testing visualizations for each CV split\n",
    "    for ii, (tr, tt) in enumerate(cv.split(X=X, y=y, groups=group)):\n",
    "        # Fill in indices with the training/test groups\n",
    "        indices = np.array([np.nan] * len(X))\n",
    "        indices[tt] = 1\n",
    "        indices[tr] = 0\n",
    "\n",
    "        # Visualize the results\n",
    "        ax.scatter(range(len(indices)), [ii + .5] * len(indices),\n",
    "                   c=indices, marker='_', lw=lw, cmap=cmap_cv,\n",
    "                   vmin=-.2, vmax=1.2)\n",
    "\n",
    "    # Plot the data classes and groups at the end\n",
    "    ax.scatter(range(len(X)), [ii + 1.5] * len(X),\n",
    "               c=y, marker='_', lw=lw, cmap=cmap_data)\n",
    "\n",
    "    ax.scatter(range(len(X)), [ii + 2.5] * len(X),\n",
    "               c=group, marker='_', lw=lw, cmap=cmap_data)\n",
    "\n",
    "    # Formatting\n",
    "    yticklabels = list(range(n_splits)) + ['class', 'group']\n",
    "    ax.set(yticks=np.arange(n_splits+2) + .5, yticklabels=yticklabels,\n",
    "           xlabel='Sample index', ylabel=\"CV iteration\",\n",
    "           ylim=[n_splits+2.2, -.2], xlim=[0, y.size])\n",
    "    ax.set_title('{}'.format(type(cv).__name__), fontsize=15)\n",
    "    return ax\n",
    "fig, ax = plt.subplots()\n",
    "cv = KFold(n_splits)\n",
    "plot_cv_indices(cv, X, y2, groups, ax, n_splits)"
   ]
  },
  {
   "cell_type": "code",
   "execution_count": 16,
   "id": "a75c20cb",
   "metadata": {},
   "outputs": [
    {
     "data": {
      "text/plain": [
       "<AxesSubplot:title={'center':'StratifiedKFold'}, xlabel='Sample index', ylabel='CV iteration'>"
      ]
     },
     "execution_count": 16,
     "metadata": {},
     "output_type": "execute_result"
    },
    {
     "data": {
      "image/png": "[encoded data removed]",
      "text/plain": [
       "<Figure size 432x288 with 1 Axes>"
      ]
     },
     "metadata": {},
     "output_type": "display_data"
    }
   ],
   "source": [
    "fig, ax = plt.subplots()\n",
    "cv = StratifiedKFold(n_splits)\n",
    "plot_cv_indices(cv, X, y2, groups, ax, n_splits)"
   ]
  },
  {
   "cell_type": "code",
   "execution_count": 17,
   "id": "5207a21d",
   "metadata": {},
   "outputs": [
    {
     "data": {
      "image/png": "[encoded data removed]",
      "text/plain": [
       "<Figure size 432x216 with 1 Axes>"
      ]
     },
     "metadata": {},
     "output_type": "display_data"
    },
    {
     "data": {
      "image/png": "[encoded data removed]",
      "text/plain": [
       "<Figure size 432x216 with 1 Axes>"
      ]
     },
     "metadata": {},
     "output_type": "display_data"
    },
    {
     "data": {
      "image/png": "[encoded data removed]",
      "text/plain": [
       "<Figure size 432x216 with 1 Axes>"
      ]
     },
     "metadata": {},
     "output_type": "display_data"
    },
    {
     "data": {
      "image/png": "[encoded data removed]",
      "text/plain": [
       "<Figure size 432x216 with 1 Axes>"
      ]
     },
     "metadata": {},
     "output_type": "display_data"
    },
    {
     "data": {
      "image/png": "[encoded data removed]",
      "text/plain": [
       "<Figure size 432x216 with 1 Axes>"
      ]
     },
     "metadata": {},
     "output_type": "display_data"
    },
    {
     "data": {
      "image/png": "[encoded data removed]",
      "text/plain": [
       "<Figure size 432x216 with 1 Axes>"
      ]
     },
     "metadata": {},
     "output_type": "display_data"
    },
    {
     "data": {
      "image/png": "[encoded data removed]",
      "text/plain": [
       "<Figure size 432x216 with 1 Axes>"
      ]
     },
     "metadata": {},
     "output_type": "display_data"
    }
   ],
   "source": [
    "cvs = [KFold, GroupKFold, ShuffleSplit, StratifiedKFold,\n",
    "       GroupShuffleSplit, StratifiedShuffleSplit, TimeSeriesSplit]\n",
    "\n",
    "\n",
    "for cv in cvs:\n",
    "    this_cv = cv(n_splits=n_splits)\n",
    "    fig, ax = plt.subplots(figsize=(6, 3))\n",
    "    plot_cv_indices(this_cv, X, y2, groups, ax, n_splits)\n",
    "\n",
    "    ax.legend([Patch(color=cmap_cv(.8)), Patch(color=cmap_cv(.02))],\n",
    "              ['Testing set', 'Training set'], loc=(1.02, .8))\n",
    "    # Make the legend fit\n",
    "    plt.tight_layout()\n",
    "    fig.subplots_adjust(right=.7)\n",
    "plt.show()"
   ]
  },
  {
   "cell_type": "code",
   "execution_count": null,
   "id": "bb457cc8",
   "metadata": {},
   "outputs": [],
   "source": []
  }
 ],
 "metadata": {
  "kernelspec": {
   "display_name": "Python 3",
   "language": "python",
   "name": "python3"
  },
  "language_info": {
   "codemirror_mode": {
    "name": "ipython",
    "version": 3
   },
   "file_extension": ".py",
   "mimetype": "text/x-python",
   "name": "python",
   "nbconvert_exporter": "python",
   "pygments_lexer": "ipython3",
   "version": "3.6.9"
  }
 },
 "nbformat": 4,
 "nbformat_minor": 5
}
