{
 "cells": [
  {
   "cell_type": "code",
   "execution_count": 7,
   "id": "c5610b8c",
   "metadata": {},
   "outputs": [],
   "source": [
    "a=1\n"
   ]
  },
  {
   "cell_type": "code",
   "execution_count": 8,
   "id": "cd0774ca",
   "metadata": {},
   "outputs": [],
   "source": [
    "a=\"a\""
   ]
  },
  {
   "cell_type": "code",
   "execution_count": 27,
   "id": "f1d5b853",
   "metadata": {},
   "outputs": [],
   "source": [
    "a=2.0\n"
   ]
  },
  {
   "cell_type": "code",
   "execution_count": 10,
   "id": "e6651fc0",
   "metadata": {},
   "outputs": [
    {
     "data": {
      "text/plain": [
       "2.0"
      ]
     },
     "execution_count": 10,
     "metadata": {},
     "output_type": "execute_result"
    }
   ],
   "source": [
    "a"
   ]
  },
  {
   "cell_type": "code",
   "execution_count": 29,
   "id": "c7127e3c",
   "metadata": {},
   "outputs": [],
   "source": [
    "a=\"Hello World\""
   ]
  },
  {
   "cell_type": "code",
   "execution_count": 24,
   "id": "8257caf6",
   "metadata": {},
   "outputs": [
    {
     "data": {
      "text/plain": [
       "'hello world'"
      ]
     },
     "execution_count": 24,
     "metadata": {},
     "output_type": "execute_result"
    }
   ],
   "source": [
    "a.lower()\n"
   ]
  },
  {
   "cell_type": "code",
   "execution_count": 25,
   "id": "0cc74c33",
   "metadata": {},
   "outputs": [
    {
     "data": {
      "text/plain": [
       "'Hello World'"
      ]
     },
     "execution_count": 25,
     "metadata": {},
     "output_type": "execute_result"
    }
   ],
   "source": [
    "a"
   ]
  },
  {
   "cell_type": "code",
   "execution_count": 28,
   "id": "277cb27d",
   "metadata": {},
   "outputs": [
    {
     "data": {
      "text/plain": [
       "2.0"
      ]
     },
     "execution_count": 28,
     "metadata": {},
     "output_type": "execute_result"
    }
   ],
   "source": [
    "a"
   ]
  },
  {
   "cell_type": "code",
   "execution_count": 34,
   "id": "30afe3f3",
   "metadata": {},
   "outputs": [
    {
     "data": {
      "text/plain": [
       "'ld'"
      ]
     },
     "execution_count": 34,
     "metadata": {},
     "output_type": "execute_result"
    }
   ],
   "source": [
    "a[-2:]"
   ]
  },
  {
   "cell_type": "code",
   "execution_count": 35,
   "id": "d08ba5da",
   "metadata": {},
   "outputs": [],
   "source": [
    "a=[1,2,3,4,5]"
   ]
  },
  {
   "cell_type": "code",
   "execution_count": 36,
   "id": "997839f8",
   "metadata": {},
   "outputs": [
    {
     "data": {
      "text/plain": [
       "[1, 2]"
      ]
     },
     "execution_count": 36,
     "metadata": {},
     "output_type": "execute_result"
    }
   ],
   "source": [
    "a[:2]\n"
   ]
  },
  {
   "cell_type": "code",
   "execution_count": 42,
   "id": "e073f1e2",
   "metadata": {},
   "outputs": [],
   "source": [
    "a=float(\"2.1\")"
   ]
  },
  {
   "cell_type": "code",
   "execution_count": 43,
   "id": "985f8054",
   "metadata": {},
   "outputs": [
    {
     "data": {
      "text/plain": [
       "2.1"
      ]
     },
     "execution_count": 43,
     "metadata": {},
     "output_type": "execute_result"
    }
   ],
   "source": [
    "a"
   ]
  },
  {
   "cell_type": "code",
   "execution_count": 41,
   "id": "2e749cbc",
   "metadata": {},
   "outputs": [],
   "source": [
    "b=\"2.1\"\n"
   ]
  },
  {
   "cell_type": "code",
   "execution_count": 44,
   "id": "43fb1306",
   "metadata": {},
   "outputs": [
    {
     "data": {
      "text/plain": [
       "True"
      ]
     },
     "execution_count": 44,
     "metadata": {},
     "output_type": "execute_result"
    }
   ],
   "source": [
    "a==float(b)"
   ]
  },
  {
   "cell_type": "code",
   "execution_count": 46,
   "id": "0efe8d43",
   "metadata": {},
   "outputs": [
    {
     "data": {
      "text/plain": [
       "2"
      ]
     },
     "execution_count": 46,
     "metadata": {},
     "output_type": "execute_result"
    }
   ],
   "source": [
    "int(\"2\")"
   ]
  },
  {
   "cell_type": "code",
   "execution_count": 47,
   "id": "dd34a3f6",
   "metadata": {},
   "outputs": [],
   "source": [
    "a={\"a\":1, 1:2, 3:1}"
   ]
  },
  {
   "cell_type": "code",
   "execution_count": 48,
   "id": "669274c3",
   "metadata": {},
   "outputs": [
    {
     "data": {
      "text/plain": [
       "1"
      ]
     },
     "execution_count": 48,
     "metadata": {},
     "output_type": "execute_result"
    }
   ],
   "source": [
    "a[\"a\"]\n"
   ]
  },
  {
   "cell_type": "code",
   "execution_count": 49,
   "id": "02683cc2",
   "metadata": {},
   "outputs": [
    {
     "data": {
      "text/plain": [
       "2"
      ]
     },
     "execution_count": 49,
     "metadata": {},
     "output_type": "execute_result"
    }
   ],
   "source": [
    "a[1]"
   ]
  },
  {
   "cell_type": "code",
   "execution_count": 50,
   "id": "5902c023",
   "metadata": {},
   "outputs": [
    {
     "ename": "KeyError",
     "evalue": "4",
     "output_type": "error",
     "traceback": [
      "\u001b[0;31m---------------------------------------------------------------------------\u001b[0m",
      "\u001b[0;31mKeyError\u001b[0m                                  Traceback (most recent call last)",
      "\u001b[0;32m<ipython-input-50-ed40d1f49c42>\u001b[0m in \u001b[0;36m<module>\u001b[0;34m\u001b[0m\n\u001b[0;32m----> 1\u001b[0;31m \u001b[0ma\u001b[0m\u001b[0;34m[\u001b[0m\u001b[0;36m4\u001b[0m\u001b[0;34m]\u001b[0m\u001b[0;34m\u001b[0m\u001b[0;34m\u001b[0m\u001b[0m\n\u001b[0m",
      "\u001b[0;31mKeyError\u001b[0m: 4"
     ]
    }
   ],
   "source": [
    "a[4]"
   ]
  },
  {
   "cell_type": "code",
   "execution_count": 54,
   "id": "fb12e823",
   "metadata": {},
   "outputs": [],
   "source": [
    "a=[0,1,2,3,4]\n",
    "b=[1,2,3,4,5,6]\n",
    "c=list(zip(a,b))"
   ]
  },
  {
   "cell_type": "code",
   "execution_count": 55,
   "id": "0fb147b6",
   "metadata": {},
   "outputs": [
    {
     "data": {
      "text/plain": [
       "(0, 1)"
      ]
     },
     "execution_count": 55,
     "metadata": {},
     "output_type": "execute_result"
    }
   ],
   "source": [
    "c[0]\n"
   ]
  },
  {
   "cell_type": "markdown",
   "id": "6f308ea9",
   "metadata": {},
   "source": [
    "#TODO for next class\n",
    "do homework from workshop 1-4 email danny.ktbyte@gmail.com with questions\n"
   ]
  },
  {
   "cell_type": "code",
   "execution_count": null,
   "id": "5a7217e5",
   "metadata": {},
   "outputs": [],
   "source": []
  }
 ],
 "metadata": {
  "kernelspec": {
   "display_name": "Python 3",
   "language": "python",
   "name": "python3"
  },
  "language_info": {
   "codemirror_mode": {
    "name": "ipython",
    "version": 3
   },
   "file_extension": ".py",
   "mimetype": "text/x-python",
   "name": "python",
   "nbconvert_exporter": "python",
   "pygments_lexer": "ipython3",
   "version": "3.6.9"
  }
 },
 "nbformat": 4,
 "nbformat_minor": 5
}
